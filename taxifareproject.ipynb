{
 "cells": [
  {
   "cell_type": "code",
   "execution_count": 1,
   "id": "4a363a6e-deee-4048-adfe-2879f3011b04",
   "metadata": {},
   "outputs": [],
   "source": [
    "import pandas as pd\n",
    "import numpy as np\n",
    "import seaborn as sns \n",
    "import matplotlib.pyplot as plt\n",
    "from warnings import filterwarnings\n",
    "filterwarnings('ignore')\n"
   ]
  },
  {
   "cell_type": "code",
   "execution_count": 2,
   "id": "cfdd6927-4195-4e34-97dc-cb7403c22a3c",
   "metadata": {},
   "outputs": [],
   "source": [
    "df=pd.read_csv('TaxiFare.csv')"
   ]
  },
  {
   "cell_type": "code",
   "execution_count": 3,
   "id": "533b37fb-6e85-4a66-a6c2-f31984d07fcf",
   "metadata": {},
   "outputs": [
    {
     "data": {
      "text/html": [
       "<style type=\"text/css\">\n",
       "#T_25fe2_row0_col1 {\n",
       "  background-color: #99fca6;\n",
       "  color: #000000;\n",
       "}\n",
       "#T_25fe2_row0_col3 {\n",
       "  background-color: #10a2f0;\n",
       "  color: #f1f1f1;\n",
       "}\n",
       "#T_25fe2_row0_col4 {\n",
       "  background-color: #27dade;\n",
       "  color: #000000;\n",
       "}\n",
       "#T_25fe2_row0_col5, #T_25fe2_row0_col7, #T_25fe2_row1_col3, #T_25fe2_row1_col4, #T_25fe2_row1_col7, #T_25fe2_row3_col7, #T_25fe2_row4_col6, #T_25fe2_row4_col7, #T_25fe2_row6_col1, #T_25fe2_row6_col7, #T_25fe2_row7_col7, #T_25fe2_row9_col7 {\n",
       "  background-color: #8000ff;\n",
       "  color: #f1f1f1;\n",
       "}\n",
       "#T_25fe2_row0_col6 {\n",
       "  background-color: #2adddd;\n",
       "  color: #000000;\n",
       "}\n",
       "#T_25fe2_row1_col1 {\n",
       "  background-color: #00b5eb;\n",
       "  color: #f1f1f1;\n",
       "}\n",
       "#T_25fe2_row1_col5 {\n",
       "  background-color: #04b9ea;\n",
       "  color: #f1f1f1;\n",
       "}\n",
       "#T_25fe2_row1_col6 {\n",
       "  background-color: #2ddedc;\n",
       "  color: #000000;\n",
       "}\n",
       "#T_25fe2_row2_col1, #T_25fe2_row2_col6 {\n",
       "  background-color: #74feba;\n",
       "  color: #000000;\n",
       "}\n",
       "#T_25fe2_row2_col3 {\n",
       "  background-color: #20d5e1;\n",
       "  color: #000000;\n",
       "}\n",
       "#T_25fe2_row2_col4 {\n",
       "  background-color: #7effb5;\n",
       "  color: #000000;\n",
       "}\n",
       "#T_25fe2_row2_col5 {\n",
       "  background-color: #80ffb4;\n",
       "  color: #000000;\n",
       "}\n",
       "#T_25fe2_row2_col7, #T_25fe2_row3_col3, #T_25fe2_row3_col4, #T_25fe2_row3_col5, #T_25fe2_row4_col1, #T_25fe2_row5_col7, #T_25fe2_row7_col6, #T_25fe2_row8_col7 {\n",
       "  background-color: #ff0000;\n",
       "  color: #f1f1f1;\n",
       "}\n",
       "#T_25fe2_row3_col1 {\n",
       "  background-color: #ff4d27;\n",
       "  color: #f1f1f1;\n",
       "}\n",
       "#T_25fe2_row3_col6 {\n",
       "  background-color: #ffa759;\n",
       "  color: #000000;\n",
       "}\n",
       "#T_25fe2_row4_col3 {\n",
       "  background-color: #504afc;\n",
       "  color: #f1f1f1;\n",
       "}\n",
       "#T_25fe2_row4_col4, #T_25fe2_row7_col3 {\n",
       "  background-color: #7a09ff;\n",
       "  color: #f1f1f1;\n",
       "}\n",
       "#T_25fe2_row4_col5 {\n",
       "  background-color: #7e03ff;\n",
       "  color: #f1f1f1;\n",
       "}\n",
       "#T_25fe2_row5_col1 {\n",
       "  background-color: #ff733b;\n",
       "  color: #f1f1f1;\n",
       "}\n",
       "#T_25fe2_row5_col3 {\n",
       "  background-color: #d2de81;\n",
       "  color: #000000;\n",
       "}\n",
       "#T_25fe2_row5_col4, #T_25fe2_row7_col1 {\n",
       "  background-color: #c6e789;\n",
       "  color: #000000;\n",
       "}\n",
       "#T_25fe2_row5_col5 {\n",
       "  background-color: #37e6d8;\n",
       "  color: #000000;\n",
       "}\n",
       "#T_25fe2_row5_col6, #T_25fe2_row6_col6 {\n",
       "  background-color: #e8cb72;\n",
       "  color: #000000;\n",
       "}\n",
       "#T_25fe2_row6_col3 {\n",
       "  background-color: #04b0ed;\n",
       "  color: #f1f1f1;\n",
       "}\n",
       "#T_25fe2_row6_col4 {\n",
       "  background-color: #7dffb6;\n",
       "  color: #000000;\n",
       "}\n",
       "#T_25fe2_row6_col5 {\n",
       "  background-color: #34e4d9;\n",
       "  color: #000000;\n",
       "}\n",
       "#T_25fe2_row7_col4 {\n",
       "  background-color: #5df9c7;\n",
       "  color: #000000;\n",
       "}\n",
       "#T_25fe2_row7_col5 {\n",
       "  background-color: #e2d176;\n",
       "  color: #000000;\n",
       "}\n",
       "#T_25fe2_row8_col1, #T_25fe2_row9_col5 {\n",
       "  background-color: #cce385;\n",
       "  color: #000000;\n",
       "}\n",
       "#T_25fe2_row8_col3 {\n",
       "  background-color: #18cde4;\n",
       "  color: #000000;\n",
       "}\n",
       "#T_25fe2_row8_col4 {\n",
       "  background-color: #24d8df;\n",
       "  color: #000000;\n",
       "}\n",
       "#T_25fe2_row8_col5 {\n",
       "  background-color: #82ffb3;\n",
       "  color: #000000;\n",
       "}\n",
       "#T_25fe2_row8_col6 {\n",
       "  background-color: #ff964f;\n",
       "  color: #000000;\n",
       "}\n",
       "#T_25fe2_row9_col1 {\n",
       "  background-color: #0fc4e7;\n",
       "  color: #000000;\n",
       "}\n",
       "#T_25fe2_row9_col3 {\n",
       "  background-color: #beec8e;\n",
       "  color: #000000;\n",
       "}\n",
       "#T_25fe2_row9_col4 {\n",
       "  background-color: #8bfeae;\n",
       "  color: #000000;\n",
       "}\n",
       "#T_25fe2_row9_col6 {\n",
       "  background-color: #c4e88a;\n",
       "  color: #000000;\n",
       "}\n",
       "</style>\n",
       "<table id=\"T_25fe2\">\n",
       "  <thead>\n",
       "    <tr>\n",
       "      <th class=\"blank level0\" >&nbsp;</th>\n",
       "      <th id=\"T_25fe2_level0_col0\" class=\"col_heading level0 col0\" >unique_id</th>\n",
       "      <th id=\"T_25fe2_level0_col1\" class=\"col_heading level0 col1\" >amount</th>\n",
       "      <th id=\"T_25fe2_level0_col2\" class=\"col_heading level0 col2\" >date_time_of_pickup</th>\n",
       "      <th id=\"T_25fe2_level0_col3\" class=\"col_heading level0 col3\" >longitude_of_pickup</th>\n",
       "      <th id=\"T_25fe2_level0_col4\" class=\"col_heading level0 col4\" >latitude_of_pickup</th>\n",
       "      <th id=\"T_25fe2_level0_col5\" class=\"col_heading level0 col5\" >longitude_of_dropoff</th>\n",
       "      <th id=\"T_25fe2_level0_col6\" class=\"col_heading level0 col6\" >latitude_of_dropoff</th>\n",
       "      <th id=\"T_25fe2_level0_col7\" class=\"col_heading level0 col7\" >no_of_passenger</th>\n",
       "    </tr>\n",
       "  </thead>\n",
       "  <tbody>\n",
       "    <tr>\n",
       "      <th id=\"T_25fe2_level0_row0\" class=\"row_heading level0 row0\" >7400</th>\n",
       "      <td id=\"T_25fe2_row0_col0\" class=\"data row0 col0\" >00:13.0</td>\n",
       "      <td id=\"T_25fe2_row0_col1\" class=\"data row0 col1\" >10.000000</td>\n",
       "      <td id=\"T_25fe2_row0_col2\" class=\"data row0 col2\" >2013-08-12 21:00:13 UTC</td>\n",
       "      <td id=\"T_25fe2_row0_col3\" class=\"data row0 col3\" >-73.984249</td>\n",
       "      <td id=\"T_25fe2_row0_col4\" class=\"data row0 col4\" >40.749475</td>\n",
       "      <td id=\"T_25fe2_row0_col5\" class=\"data row0 col5\" >-74.002094</td>\n",
       "      <td id=\"T_25fe2_row0_col6\" class=\"data row0 col6\" >40.726526</td>\n",
       "      <td id=\"T_25fe2_row0_col7\" class=\"data row0 col7\" >1</td>\n",
       "    </tr>\n",
       "    <tr>\n",
       "      <th id=\"T_25fe2_level0_row1\" class=\"row_heading level0 row1\" >31641</th>\n",
       "      <td id=\"T_25fe2_row1_col0\" class=\"data row1 col0\" >37:36.0</td>\n",
       "      <td id=\"T_25fe2_row1_col1\" class=\"data row1 col1\" >7.000000</td>\n",
       "      <td id=\"T_25fe2_row1_col2\" class=\"data row1 col2\" >2013-09-10 23:37:36 UTC</td>\n",
       "      <td id=\"T_25fe2_row1_col3\" class=\"data row1 col3\" >-73.995787</td>\n",
       "      <td id=\"T_25fe2_row1_col4\" class=\"data row1 col4\" >40.716695</td>\n",
       "      <td id=\"T_25fe2_row1_col5\" class=\"data row1 col5\" >-73.987702</td>\n",
       "      <td id=\"T_25fe2_row1_col6\" class=\"data row1 col6\" >40.727010</td>\n",
       "      <td id=\"T_25fe2_row1_col7\" class=\"data row1 col7\" >1</td>\n",
       "    </tr>\n",
       "    <tr>\n",
       "      <th id=\"T_25fe2_level0_row2\" class=\"row_heading level0 row2\" >38384</th>\n",
       "      <td id=\"T_25fe2_row2_col0\" class=\"data row2 col0\" >48:00.0</td>\n",
       "      <td id=\"T_25fe2_row2_col1\" class=\"data row2 col1\" >9.300000</td>\n",
       "      <td id=\"T_25fe2_row2_col2\" class=\"data row2 col2\" >2010-12-17 22:48:00 UTC</td>\n",
       "      <td id=\"T_25fe2_row2_col3\" class=\"data row2 col3\" >-73.979155</td>\n",
       "      <td id=\"T_25fe2_row2_col4\" class=\"data row2 col4\" >40.766935</td>\n",
       "      <td id=\"T_25fe2_row2_col5\" class=\"data row2 col5\" >-73.974382</td>\n",
       "      <td id=\"T_25fe2_row2_col6\" class=\"data row2 col6\" >40.744208</td>\n",
       "      <td id=\"T_25fe2_row2_col7\" class=\"data row2 col7\" >2</td>\n",
       "    </tr>\n",
       "    <tr>\n",
       "      <th id=\"T_25fe2_level0_row3\" class=\"row_heading level0 row3\" >33437</th>\n",
       "      <td id=\"T_25fe2_row3_col0\" class=\"data row3 col0\" >26:00.0</td>\n",
       "      <td id=\"T_25fe2_row3_col1\" class=\"data row3 col1\" >13.500000</td>\n",
       "      <td id=\"T_25fe2_row3_col2\" class=\"data row3 col2\" >2013-11-21 02:26:00 UTC</td>\n",
       "      <td id=\"T_25fe2_row3_col3\" class=\"data row3 col3\" >-73.943105</td>\n",
       "      <td id=\"T_25fe2_row3_col4\" class=\"data row3 col4\" >40.817590</td>\n",
       "      <td id=\"T_25fe2_row3_col5\" class=\"data row3 col5\" >-73.946875</td>\n",
       "      <td id=\"T_25fe2_row3_col6\" class=\"data row3 col6\" >40.780027</td>\n",
       "      <td id=\"T_25fe2_row3_col7\" class=\"data row3 col7\" >1</td>\n",
       "    </tr>\n",
       "    <tr>\n",
       "      <th id=\"T_25fe2_level0_row4\" class=\"row_heading level0 row4\" >13645</th>\n",
       "      <td id=\"T_25fe2_row4_col0\" class=\"data row4 col0\" >25:50.0</td>\n",
       "      <td id=\"T_25fe2_row4_col1\" class=\"data row4 col1\" >14.500000</td>\n",
       "      <td id=\"T_25fe2_row4_col2\" class=\"data row4 col2\" >2015-03-15 01:25:50 UTC</td>\n",
       "      <td id=\"T_25fe2_row4_col3\" class=\"data row4 col3\" >-73.990776</td>\n",
       "      <td id=\"T_25fe2_row4_col4\" class=\"data row4 col4\" >40.717880</td>\n",
       "      <td id=\"T_25fe2_row4_col5\" class=\"data row4 col5\" >-74.001739</td>\n",
       "      <td id=\"T_25fe2_row4_col6\" class=\"data row4 col6\" >40.685749</td>\n",
       "      <td id=\"T_25fe2_row4_col7\" class=\"data row4 col7\" >1</td>\n",
       "    </tr>\n",
       "    <tr>\n",
       "      <th id=\"T_25fe2_level0_row5\" class=\"row_heading level0 row5\" >16607</th>\n",
       "      <td id=\"T_25fe2_row5_col0\" class=\"data row5 col0\" >51:00.0</td>\n",
       "      <td id=\"T_25fe2_row5_col1\" class=\"data row5 col1\" >13.000000</td>\n",
       "      <td id=\"T_25fe2_row5_col2\" class=\"data row5 col2\" >2014-03-11 17:51:00 UTC</td>\n",
       "      <td id=\"T_25fe2_row5_col3\" class=\"data row5 col3\" >-73.960810</td>\n",
       "      <td id=\"T_25fe2_row5_col4\" class=\"data row5 col4\" >40.781100</td>\n",
       "      <td id=\"T_25fe2_row5_col5\" class=\"data row5 col5\" >-73.982460</td>\n",
       "      <td id=\"T_25fe2_row5_col6\" class=\"data row5 col6\" >40.771820</td>\n",
       "      <td id=\"T_25fe2_row5_col7\" class=\"data row5 col7\" >2</td>\n",
       "    </tr>\n",
       "    <tr>\n",
       "      <th id=\"T_25fe2_level0_row6\" class=\"row_heading level0 row6\" >14469</th>\n",
       "      <td id=\"T_25fe2_row6_col0\" class=\"data row6 col0\" >41:00.0</td>\n",
       "      <td id=\"T_25fe2_row6_col1\" class=\"data row6 col1\" >4.500000</td>\n",
       "      <td id=\"T_25fe2_row6_col2\" class=\"data row6 col2\" >2014-02-08 10:41:00 UTC</td>\n",
       "      <td id=\"T_25fe2_row6_col3\" class=\"data row6 col3\" >-73.982877</td>\n",
       "      <td id=\"T_25fe2_row6_col4\" class=\"data row6 col4\" >40.766430</td>\n",
       "      <td id=\"T_25fe2_row6_col5\" class=\"data row6 col5\" >-73.982503</td>\n",
       "      <td id=\"T_25fe2_row6_col6\" class=\"data row6 col6\" >40.771855</td>\n",
       "      <td id=\"T_25fe2_row6_col7\" class=\"data row6 col7\" >1</td>\n",
       "    </tr>\n",
       "    <tr>\n",
       "      <th id=\"T_25fe2_level0_row7\" class=\"row_heading level0 row7\" >27527</th>\n",
       "      <td id=\"T_25fe2_row7_col0\" class=\"data row7 col0\" >00:44.0</td>\n",
       "      <td id=\"T_25fe2_row7_col1\" class=\"data row7 col1\" >10.900000</td>\n",
       "      <td id=\"T_25fe2_row7_col2\" class=\"data row7 col2\" >2009-02-10 10:00:44 UTC</td>\n",
       "      <td id=\"T_25fe2_row7_col3\" class=\"data row7 col3\" >-73.994994</td>\n",
       "      <td id=\"T_25fe2_row7_col4\" class=\"data row7 col4\" >40.760334</td>\n",
       "      <td id=\"T_25fe2_row7_col5\" class=\"data row7 col5\" >-73.963891</td>\n",
       "      <td id=\"T_25fe2_row7_col6\" class=\"data row7 col6\" >40.807780</td>\n",
       "      <td id=\"T_25fe2_row7_col7\" class=\"data row7 col7\" >1</td>\n",
       "    </tr>\n",
       "    <tr>\n",
       "      <th id=\"T_25fe2_level0_row8\" class=\"row_heading level0 row8\" >35818</th>\n",
       "      <td id=\"T_25fe2_row8_col0\" class=\"data row8 col0\" >11:44.0</td>\n",
       "      <td id=\"T_25fe2_row8_col1\" class=\"data row8 col1\" >11.000000</td>\n",
       "      <td id=\"T_25fe2_row8_col2\" class=\"data row8 col2\" >2012-11-06 22:11:44 UTC</td>\n",
       "      <td id=\"T_25fe2_row8_col3\" class=\"data row8 col3\" >-73.979999</td>\n",
       "      <td id=\"T_25fe2_row8_col4\" class=\"data row8 col4\" >40.749287</td>\n",
       "      <td id=\"T_25fe2_row8_col5\" class=\"data row8 col5\" >-73.974242</td>\n",
       "      <td id=\"T_25fe2_row8_col6\" class=\"data row8 col6\" >40.783160</td>\n",
       "      <td id=\"T_25fe2_row8_col7\" class=\"data row8 col7\" >2</td>\n",
       "    </tr>\n",
       "    <tr>\n",
       "      <th id=\"T_25fe2_level0_row9\" class=\"row_heading level0 row9\" >12261</th>\n",
       "      <td id=\"T_25fe2_row9_col0\" class=\"data row9 col0\" >49:23.0</td>\n",
       "      <td id=\"T_25fe2_row9_col1\" class=\"data row9 col1\" >7.300000</td>\n",
       "      <td id=\"T_25fe2_row9_col2\" class=\"data row9 col2\" >2009-12-19 23:49:23 UTC</td>\n",
       "      <td id=\"T_25fe2_row9_col3\" class=\"data row9 col3\" >-73.962992</td>\n",
       "      <td id=\"T_25fe2_row9_col4\" class=\"data row9 col4\" >40.769321</td>\n",
       "      <td id=\"T_25fe2_row9_col5\" class=\"data row9 col5\" >-73.966286</td>\n",
       "      <td id=\"T_25fe2_row9_col6\" class=\"data row9 col6\" >40.763152</td>\n",
       "      <td id=\"T_25fe2_row9_col7\" class=\"data row9 col7\" >1</td>\n",
       "    </tr>\n",
       "  </tbody>\n",
       "</table>\n"
      ],
      "text/plain": [
       "<pandas.io.formats.style.Styler at 0x15cce0d6300>"
      ]
     },
     "execution_count": 3,
     "metadata": {},
     "output_type": "execute_result"
    }
   ],
   "source": [
    "df.sample(10).style.background_gradient(cmap='rainbow')"
   ]
  },
  {
   "cell_type": "code",
   "execution_count": 4,
   "id": "ebb59845-cbec-45c1-b39d-620001ce4282",
   "metadata": {},
   "outputs": [
    {
     "data": {
      "text/html": [
       "<style type=\"text/css\">\n",
       "#T_30e1f_row0_col0, #T_30e1f_row0_col1, #T_30e1f_row0_col2, #T_30e1f_row0_col3, #T_30e1f_row0_col4, #T_30e1f_row0_col5 {\n",
       "  background-color: #084081;\n",
       "  color: #f1f1f1;\n",
       "}\n",
       "#T_30e1f_row1_col0, #T_30e1f_row1_col1, #T_30e1f_row1_col2, #T_30e1f_row1_col3, #T_30e1f_row1_col4, #T_30e1f_row1_col5, #T_30e1f_row2_col0, #T_30e1f_row2_col1, #T_30e1f_row2_col2, #T_30e1f_row2_col3, #T_30e1f_row2_col4, #T_30e1f_row2_col5, #T_30e1f_row3_col0, #T_30e1f_row3_col1, #T_30e1f_row3_col2, #T_30e1f_row3_col3, #T_30e1f_row3_col4, #T_30e1f_row3_col5, #T_30e1f_row4_col0, #T_30e1f_row4_col1, #T_30e1f_row4_col2, #T_30e1f_row4_col3, #T_30e1f_row4_col4, #T_30e1f_row4_col5, #T_30e1f_row5_col0, #T_30e1f_row5_col1, #T_30e1f_row5_col2, #T_30e1f_row5_col3, #T_30e1f_row5_col4, #T_30e1f_row5_col5, #T_30e1f_row6_col0, #T_30e1f_row6_col1, #T_30e1f_row6_col2, #T_30e1f_row6_col3, #T_30e1f_row6_col4, #T_30e1f_row6_col5, #T_30e1f_row7_col1, #T_30e1f_row7_col3, #T_30e1f_row7_col4, #T_30e1f_row7_col5 {\n",
       "  background-color: #f7fcf0;\n",
       "  color: #000000;\n",
       "}\n",
       "#T_30e1f_row7_col0 {\n",
       "  background-color: #f6fcef;\n",
       "  color: #000000;\n",
       "}\n",
       "#T_30e1f_row7_col2 {\n",
       "  background-color: #f6fbef;\n",
       "  color: #000000;\n",
       "}\n",
       "</style>\n",
       "<table id=\"T_30e1f\">\n",
       "  <thead>\n",
       "    <tr>\n",
       "      <th class=\"blank level0\" >&nbsp;</th>\n",
       "      <th id=\"T_30e1f_level0_col0\" class=\"col_heading level0 col0\" >amount</th>\n",
       "      <th id=\"T_30e1f_level0_col1\" class=\"col_heading level0 col1\" >longitude_of_pickup</th>\n",
       "      <th id=\"T_30e1f_level0_col2\" class=\"col_heading level0 col2\" >latitude_of_pickup</th>\n",
       "      <th id=\"T_30e1f_level0_col3\" class=\"col_heading level0 col3\" >longitude_of_dropoff</th>\n",
       "      <th id=\"T_30e1f_level0_col4\" class=\"col_heading level0 col4\" >latitude_of_dropoff</th>\n",
       "      <th id=\"T_30e1f_level0_col5\" class=\"col_heading level0 col5\" >no_of_passenger</th>\n",
       "    </tr>\n",
       "  </thead>\n",
       "  <tbody>\n",
       "    <tr>\n",
       "      <th id=\"T_30e1f_level0_row0\" class=\"row_heading level0 row0\" >count</th>\n",
       "      <td id=\"T_30e1f_row0_col0\" class=\"data row0 col0\" >50000.000000</td>\n",
       "      <td id=\"T_30e1f_row0_col1\" class=\"data row0 col1\" >50000.000000</td>\n",
       "      <td id=\"T_30e1f_row0_col2\" class=\"data row0 col2\" >50000.000000</td>\n",
       "      <td id=\"T_30e1f_row0_col3\" class=\"data row0 col3\" >50000.000000</td>\n",
       "      <td id=\"T_30e1f_row0_col4\" class=\"data row0 col4\" >50000.000000</td>\n",
       "      <td id=\"T_30e1f_row0_col5\" class=\"data row0 col5\" >50000.000000</td>\n",
       "    </tr>\n",
       "    <tr>\n",
       "      <th id=\"T_30e1f_level0_row1\" class=\"row_heading level0 row1\" >mean</th>\n",
       "      <td id=\"T_30e1f_row1_col0\" class=\"data row1 col0\" >11.364171</td>\n",
       "      <td id=\"T_30e1f_row1_col1\" class=\"data row1 col1\" >-72.509756</td>\n",
       "      <td id=\"T_30e1f_row1_col2\" class=\"data row1 col2\" >39.933759</td>\n",
       "      <td id=\"T_30e1f_row1_col3\" class=\"data row1 col3\" >-72.504616</td>\n",
       "      <td id=\"T_30e1f_row1_col4\" class=\"data row1 col4\" >39.926251</td>\n",
       "      <td id=\"T_30e1f_row1_col5\" class=\"data row1 col5\" >1.667840</td>\n",
       "    </tr>\n",
       "    <tr>\n",
       "      <th id=\"T_30e1f_level0_row2\" class=\"row_heading level0 row2\" >std</th>\n",
       "      <td id=\"T_30e1f_row2_col0\" class=\"data row2 col0\" >9.685557</td>\n",
       "      <td id=\"T_30e1f_row2_col1\" class=\"data row2 col1\" >10.393860</td>\n",
       "      <td id=\"T_30e1f_row2_col2\" class=\"data row2 col2\" >6.224857</td>\n",
       "      <td id=\"T_30e1f_row2_col3\" class=\"data row2 col3\" >10.407570</td>\n",
       "      <td id=\"T_30e1f_row2_col4\" class=\"data row2 col4\" >6.014737</td>\n",
       "      <td id=\"T_30e1f_row2_col5\" class=\"data row2 col5\" >1.289195</td>\n",
       "    </tr>\n",
       "    <tr>\n",
       "      <th id=\"T_30e1f_level0_row3\" class=\"row_heading level0 row3\" >min</th>\n",
       "      <td id=\"T_30e1f_row3_col0\" class=\"data row3 col0\" >-5.000000</td>\n",
       "      <td id=\"T_30e1f_row3_col1\" class=\"data row3 col1\" >-75.423848</td>\n",
       "      <td id=\"T_30e1f_row3_col2\" class=\"data row3 col2\" >-74.006893</td>\n",
       "      <td id=\"T_30e1f_row3_col3\" class=\"data row3 col3\" >-84.654241</td>\n",
       "      <td id=\"T_30e1f_row3_col4\" class=\"data row3 col4\" >-74.006377</td>\n",
       "      <td id=\"T_30e1f_row3_col5\" class=\"data row3 col5\" >0.000000</td>\n",
       "    </tr>\n",
       "    <tr>\n",
       "      <th id=\"T_30e1f_level0_row4\" class=\"row_heading level0 row4\" >25%</th>\n",
       "      <td id=\"T_30e1f_row4_col0\" class=\"data row4 col0\" >6.000000</td>\n",
       "      <td id=\"T_30e1f_row4_col1\" class=\"data row4 col1\" >-73.992062</td>\n",
       "      <td id=\"T_30e1f_row4_col2\" class=\"data row4 col2\" >40.734880</td>\n",
       "      <td id=\"T_30e1f_row4_col3\" class=\"data row4 col3\" >-73.991152</td>\n",
       "      <td id=\"T_30e1f_row4_col4\" class=\"data row4 col4\" >40.734372</td>\n",
       "      <td id=\"T_30e1f_row4_col5\" class=\"data row4 col5\" >1.000000</td>\n",
       "    </tr>\n",
       "    <tr>\n",
       "      <th id=\"T_30e1f_level0_row5\" class=\"row_heading level0 row5\" >50%</th>\n",
       "      <td id=\"T_30e1f_row5_col0\" class=\"data row5 col0\" >8.500000</td>\n",
       "      <td id=\"T_30e1f_row5_col1\" class=\"data row5 col1\" >-73.981840</td>\n",
       "      <td id=\"T_30e1f_row5_col2\" class=\"data row5 col2\" >40.752678</td>\n",
       "      <td id=\"T_30e1f_row5_col3\" class=\"data row5 col3\" >-73.980082</td>\n",
       "      <td id=\"T_30e1f_row5_col4\" class=\"data row5 col4\" >40.753372</td>\n",
       "      <td id=\"T_30e1f_row5_col5\" class=\"data row5 col5\" >1.000000</td>\n",
       "    </tr>\n",
       "    <tr>\n",
       "      <th id=\"T_30e1f_level0_row6\" class=\"row_heading level0 row6\" >75%</th>\n",
       "      <td id=\"T_30e1f_row6_col0\" class=\"data row6 col0\" >12.500000</td>\n",
       "      <td id=\"T_30e1f_row6_col1\" class=\"data row6 col1\" >-73.967148</td>\n",
       "      <td id=\"T_30e1f_row6_col2\" class=\"data row6 col2\" >40.767360</td>\n",
       "      <td id=\"T_30e1f_row6_col3\" class=\"data row6 col3\" >-73.963584</td>\n",
       "      <td id=\"T_30e1f_row6_col4\" class=\"data row6 col4\" >40.768167</td>\n",
       "      <td id=\"T_30e1f_row6_col5\" class=\"data row6 col5\" >2.000000</td>\n",
       "    </tr>\n",
       "    <tr>\n",
       "      <th id=\"T_30e1f_level0_row7\" class=\"row_heading level0 row7\" >max</th>\n",
       "      <td id=\"T_30e1f_row7_col0\" class=\"data row7 col0\" >200.000000</td>\n",
       "      <td id=\"T_30e1f_row7_col1\" class=\"data row7 col1\" >40.783472</td>\n",
       "      <td id=\"T_30e1f_row7_col2\" class=\"data row7 col2\" >401.083332</td>\n",
       "      <td id=\"T_30e1f_row7_col3\" class=\"data row7 col3\" >40.851027</td>\n",
       "      <td id=\"T_30e1f_row7_col4\" class=\"data row7 col4\" >43.415190</td>\n",
       "      <td id=\"T_30e1f_row7_col5\" class=\"data row7 col5\" >6.000000</td>\n",
       "    </tr>\n",
       "  </tbody>\n",
       "</table>\n"
      ],
      "text/plain": [
       "<pandas.io.formats.style.Styler at 0x15cccff05f0>"
      ]
     },
     "execution_count": 4,
     "metadata": {},
     "output_type": "execute_result"
    }
   ],
   "source": [
    "df.describe().style.background_gradient(cmap='GnBu')"
   ]
  },
  {
   "cell_type": "code",
   "execution_count": 5,
   "id": "83009292-5549-42c7-9acf-65ec57896f38",
   "metadata": {},
   "outputs": [
    {
     "data": {
      "text/plain": [
       "(50000, 8)"
      ]
     },
     "execution_count": 5,
     "metadata": {},
     "output_type": "execute_result"
    }
   ],
   "source": [
    "df.shape"
   ]
  },
  {
   "cell_type": "code",
   "execution_count": 6,
   "id": "a8958c29-37ed-4b6b-8293-286eebb680cf",
   "metadata": {},
   "outputs": [
    {
     "data": {
      "text/plain": [
       "unique_id               0\n",
       "amount                  0\n",
       "date_time_of_pickup     0\n",
       "longitude_of_pickup     0\n",
       "latitude_of_pickup      0\n",
       "longitude_of_dropoff    0\n",
       "latitude_of_dropoff     0\n",
       "no_of_passenger         0\n",
       "dtype: int64"
      ]
     },
     "execution_count": 6,
     "metadata": {},
     "output_type": "execute_result"
    }
   ],
   "source": [
    "df.isnull().sum()"
   ]
  },
  {
   "cell_type": "code",
   "execution_count": 7,
   "id": "2587b1be-c034-4a6c-8a66-81ed005d4189",
   "metadata": {},
   "outputs": [
    {
     "data": {
      "text/plain": [
       "unique_id                object\n",
       "amount                  float64\n",
       "date_time_of_pickup      object\n",
       "longitude_of_pickup     float64\n",
       "latitude_of_pickup      float64\n",
       "longitude_of_dropoff    float64\n",
       "latitude_of_dropoff     float64\n",
       "no_of_passenger           int64\n",
       "dtype: object"
      ]
     },
     "execution_count": 7,
     "metadata": {},
     "output_type": "execute_result"
    }
   ],
   "source": [
    "df.dtypes"
   ]
  },
  {
   "cell_type": "code",
   "execution_count": 8,
   "id": "96352b68-607c-4555-9106-110220b80382",
   "metadata": {},
   "outputs": [
    {
     "data": {
      "text/plain": [
       "0"
      ]
     },
     "execution_count": 8,
     "metadata": {},
     "output_type": "execute_result"
    }
   ],
   "source": [
    "df.duplicated().sum()"
   ]
  },
  {
   "cell_type": "code",
   "execution_count": 9,
   "id": "0089514e-9b62-41a7-9bf4-76ca1ac6d6d7",
   "metadata": {},
   "outputs": [
    {
     "data": {
      "text/plain": [
       "unique_id                3597\n",
       "amount                    703\n",
       "date_time_of_pickup     49555\n",
       "longitude_of_pickup     33716\n",
       "latitude_of_pickup      36594\n",
       "longitude_of_dropoff    34878\n",
       "latitude_of_dropoff     37423\n",
       "no_of_passenger             7\n",
       "dtype: int64"
      ]
     },
     "execution_count": 9,
     "metadata": {},
     "output_type": "execute_result"
    }
   ],
   "source": [
    "df.nunique()"
   ]
  },
  {
   "cell_type": "code",
   "execution_count": 10,
   "id": "1525e134-55f5-4945-9210-68da0903bb0b",
   "metadata": {},
   "outputs": [],
   "source": [
    "df=df.drop(['unique_id'],axis=1)"
   ]
  },
  {
   "cell_type": "code",
   "execution_count": 11,
   "id": "df316067-0e4b-45fe-ac20-edcfe5a2280f",
   "metadata": {},
   "outputs": [
    {
     "data": {
      "text/plain": [
       "amount                  50000\n",
       "date_time_of_pickup     50000\n",
       "longitude_of_pickup     50000\n",
       "latitude_of_pickup      50000\n",
       "longitude_of_dropoff    50000\n",
       "latitude_of_dropoff     50000\n",
       "no_of_passenger         50000\n",
       "dtype: int64"
      ]
     },
     "execution_count": 11,
     "metadata": {},
     "output_type": "execute_result"
    }
   ],
   "source": [
    "df.isnull().count()"
   ]
  },
  {
   "cell_type": "code",
   "execution_count": 12,
   "id": "43cca9e2-883b-41ca-80fe-90bd3d28710d",
   "metadata": {},
   "outputs": [],
   "source": [
    "df.date_time_of_pickup=pd.to_datetime(df.date_time_of_pickup,errors='coerce')"
   ]
  },
  {
   "cell_type": "code",
   "execution_count": 13,
   "id": "8495adda-8843-418f-9edb-45db26e07e4a",
   "metadata": {},
   "outputs": [
    {
     "data": {
      "text/plain": [
       "amount                              float64\n",
       "date_time_of_pickup     datetime64[ns, UTC]\n",
       "longitude_of_pickup                 float64\n",
       "latitude_of_pickup                  float64\n",
       "longitude_of_dropoff                float64\n",
       "latitude_of_dropoff                 float64\n",
       "no_of_passenger                       int64\n",
       "dtype: object"
      ]
     },
     "execution_count": 13,
     "metadata": {},
     "output_type": "execute_result"
    }
   ],
   "source": [
    "df.dtypes"
   ]
  },
  {
   "cell_type": "code",
   "execution_count": 14,
   "id": "7531608b-0a1b-40c5-839c-4fdfada1bf5c",
   "metadata": {},
   "outputs": [
    {
     "data": {
      "text/html": [
       "<div>\n",
       "<style scoped>\n",
       "    .dataframe tbody tr th:only-of-type {\n",
       "        vertical-align: middle;\n",
       "    }\n",
       "\n",
       "    .dataframe tbody tr th {\n",
       "        vertical-align: top;\n",
       "    }\n",
       "\n",
       "    .dataframe thead th {\n",
       "        text-align: right;\n",
       "    }\n",
       "</style>\n",
       "<table border=\"1\" class=\"dataframe\">\n",
       "  <thead>\n",
       "    <tr style=\"text-align: right;\">\n",
       "      <th></th>\n",
       "      <th>date_time_of_pickup</th>\n",
       "    </tr>\n",
       "  </thead>\n",
       "  <tbody>\n",
       "    <tr>\n",
       "      <th>0</th>\n",
       "      <td>2009-06-15 17:26:21+00:00</td>\n",
       "    </tr>\n",
       "    <tr>\n",
       "      <th>1</th>\n",
       "      <td>2010-01-05 16:52:16+00:00</td>\n",
       "    </tr>\n",
       "    <tr>\n",
       "      <th>2</th>\n",
       "      <td>2011-08-18 00:35:00+00:00</td>\n",
       "    </tr>\n",
       "    <tr>\n",
       "      <th>3</th>\n",
       "      <td>2012-04-21 04:30:42+00:00</td>\n",
       "    </tr>\n",
       "    <tr>\n",
       "      <th>4</th>\n",
       "      <td>2010-03-09 07:51:00+00:00</td>\n",
       "    </tr>\n",
       "    <tr>\n",
       "      <th>...</th>\n",
       "      <td>...</td>\n",
       "    </tr>\n",
       "    <tr>\n",
       "      <th>49995</th>\n",
       "      <td>2013-06-12 23:25:15+00:00</td>\n",
       "    </tr>\n",
       "    <tr>\n",
       "      <th>49996</th>\n",
       "      <td>2015-06-22 17:19:18+00:00</td>\n",
       "    </tr>\n",
       "    <tr>\n",
       "      <th>49997</th>\n",
       "      <td>2011-01-30 04:53:00+00:00</td>\n",
       "    </tr>\n",
       "    <tr>\n",
       "      <th>49998</th>\n",
       "      <td>2012-11-06 07:09:00+00:00</td>\n",
       "    </tr>\n",
       "    <tr>\n",
       "      <th>49999</th>\n",
       "      <td>2010-01-13 08:13:14+00:00</td>\n",
       "    </tr>\n",
       "  </tbody>\n",
       "</table>\n",
       "<p>50000 rows × 1 columns</p>\n",
       "</div>"
      ],
      "text/plain": [
       "            date_time_of_pickup\n",
       "0     2009-06-15 17:26:21+00:00\n",
       "1     2010-01-05 16:52:16+00:00\n",
       "2     2011-08-18 00:35:00+00:00\n",
       "3     2012-04-21 04:30:42+00:00\n",
       "4     2010-03-09 07:51:00+00:00\n",
       "...                         ...\n",
       "49995 2013-06-12 23:25:15+00:00\n",
       "49996 2015-06-22 17:19:18+00:00\n",
       "49997 2011-01-30 04:53:00+00:00\n",
       "49998 2012-11-06 07:09:00+00:00\n",
       "49999 2010-01-13 08:13:14+00:00\n",
       "\n",
       "[50000 rows x 1 columns]"
      ]
     },
     "execution_count": 14,
     "metadata": {},
     "output_type": "execute_result"
    }
   ],
   "source": [
    "pd.DataFrame(df.date_time_of_pickup)"
   ]
  },
  {
   "cell_type": "code",
   "execution_count": 15,
   "id": "20e5edd9-db12-4c5e-b9f0-03995ef049bf",
   "metadata": {},
   "outputs": [],
   "source": [
    "df = df.assign(hour = df['date_time_of_pickup'].dt.hour,\n",
    "             day = df['date_time_of_pickup'].dt.day,\n",
    "             dayofweek = df['date_time_of_pickup'].dt.dayofweek,\n",
    "             month = df['date_time_of_pickup'].dt.month,\n",
    "             year = df['date_time_of_pickup'].dt.year)"
   ]
  },
  {
   "cell_type": "code",
   "execution_count": 16,
   "id": "6e63b046-be5b-42af-b36b-80599240177b",
   "metadata": {},
   "outputs": [
    {
     "data": {
      "text/html": [
       "<style type=\"text/css\">\n",
       "#T_75c64_row0_col0, #T_75c64_row0_col5, #T_75c64_row0_col6, #T_75c64_row0_col9, #T_75c64_row0_col11, #T_75c64_row1_col2, #T_75c64_row1_col3, #T_75c64_row1_col6, #T_75c64_row1_col8, #T_75c64_row1_col10, #T_75c64_row2_col4, #T_75c64_row2_col7, #T_75c64_row3_col4, #T_75c64_row3_col6, #T_75c64_row4_col6 {\n",
       "  background-color: #000004;\n",
       "  color: #f1f1f1;\n",
       "}\n",
       "#T_75c64_row0_col2, #T_75c64_row0_col4, #T_75c64_row0_col7, #T_75c64_row1_col0, #T_75c64_row2_col6, #T_75c64_row2_col10, #T_75c64_row3_col8, #T_75c64_row3_col9, #T_75c64_row3_col11, #T_75c64_row4_col3, #T_75c64_row4_col5 {\n",
       "  background-color: #fcffa4;\n",
       "  color: #000000;\n",
       "}\n",
       "#T_75c64_row0_col3 {\n",
       "  background-color: #380962;\n",
       "  color: #f1f1f1;\n",
       "}\n",
       "#T_75c64_row0_col8 {\n",
       "  background-color: #e45a31;\n",
       "  color: #f1f1f1;\n",
       "}\n",
       "#T_75c64_row0_col10 {\n",
       "  background-color: #f57d15;\n",
       "  color: #f1f1f1;\n",
       "}\n",
       "#T_75c64_row1_col4 {\n",
       "  background-color: #10092d;\n",
       "  color: #f1f1f1;\n",
       "}\n",
       "#T_75c64_row1_col5 {\n",
       "  background-color: #f4f88e;\n",
       "  color: #000000;\n",
       "}\n",
       "#T_75c64_row1_col7 {\n",
       "  background-color: #f2ea69;\n",
       "  color: #000000;\n",
       "}\n",
       "#T_75c64_row1_col9, #T_75c64_row4_col9 {\n",
       "  background-color: #420a68;\n",
       "  color: #f1f1f1;\n",
       "}\n",
       "#T_75c64_row1_col11, #T_75c64_row4_col11 {\n",
       "  background-color: #781c6d;\n",
       "  color: #f1f1f1;\n",
       "}\n",
       "#T_75c64_row2_col0 {\n",
       "  background-color: #150b37;\n",
       "  color: #f1f1f1;\n",
       "}\n",
       "#T_75c64_row2_col2 {\n",
       "  background-color: #3e0966;\n",
       "  color: #f1f1f1;\n",
       "}\n",
       "#T_75c64_row2_col3 {\n",
       "  background-color: #f8cd37;\n",
       "  color: #000000;\n",
       "}\n",
       "#T_75c64_row2_col5 {\n",
       "  background-color: #c83f4b;\n",
       "  color: #f1f1f1;\n",
       "}\n",
       "#T_75c64_row2_col8 {\n",
       "  background-color: #fcac11;\n",
       "  color: #000000;\n",
       "}\n",
       "#T_75c64_row2_col9 {\n",
       "  background-color: #dd513a;\n",
       "  color: #f1f1f1;\n",
       "}\n",
       "#T_75c64_row2_col11 {\n",
       "  background-color: #ed6925;\n",
       "  color: #f1f1f1;\n",
       "}\n",
       "#T_75c64_row3_col0 {\n",
       "  background-color: #5a116e;\n",
       "  color: #f1f1f1;\n",
       "}\n",
       "#T_75c64_row3_col2 {\n",
       "  background-color: #340a5f;\n",
       "  color: #f1f1f1;\n",
       "}\n",
       "#T_75c64_row3_col3 {\n",
       "  background-color: #8d2369;\n",
       "  color: #f1f1f1;\n",
       "}\n",
       "#T_75c64_row3_col5 {\n",
       "  background-color: #e8602d;\n",
       "  color: #f1f1f1;\n",
       "}\n",
       "#T_75c64_row3_col7 {\n",
       "  background-color: #510e6c;\n",
       "  color: #f1f1f1;\n",
       "}\n",
       "#T_75c64_row3_col10 {\n",
       "  background-color: #9f2a63;\n",
       "  color: #f1f1f1;\n",
       "}\n",
       "#T_75c64_row4_col0 {\n",
       "  background-color: #0b0724;\n",
       "  color: #f1f1f1;\n",
       "}\n",
       "#T_75c64_row4_col2 {\n",
       "  background-color: #62146e;\n",
       "  color: #f1f1f1;\n",
       "}\n",
       "#T_75c64_row4_col4 {\n",
       "  background-color: #4f0d6c;\n",
       "  color: #f1f1f1;\n",
       "}\n",
       "#T_75c64_row4_col7 {\n",
       "  background-color: #982766;\n",
       "  color: #f1f1f1;\n",
       "}\n",
       "#T_75c64_row4_col8 {\n",
       "  background-color: #57106e;\n",
       "  color: #f1f1f1;\n",
       "}\n",
       "#T_75c64_row4_col10 {\n",
       "  background-color: #65156e;\n",
       "  color: #f1f1f1;\n",
       "}\n",
       "</style>\n",
       "<table id=\"T_75c64\">\n",
       "  <thead>\n",
       "    <tr>\n",
       "      <th class=\"blank level0\" >&nbsp;</th>\n",
       "      <th id=\"T_75c64_level0_col0\" class=\"col_heading level0 col0\" >amount</th>\n",
       "      <th id=\"T_75c64_level0_col1\" class=\"col_heading level0 col1\" >date_time_of_pickup</th>\n",
       "      <th id=\"T_75c64_level0_col2\" class=\"col_heading level0 col2\" >longitude_of_pickup</th>\n",
       "      <th id=\"T_75c64_level0_col3\" class=\"col_heading level0 col3\" >latitude_of_pickup</th>\n",
       "      <th id=\"T_75c64_level0_col4\" class=\"col_heading level0 col4\" >longitude_of_dropoff</th>\n",
       "      <th id=\"T_75c64_level0_col5\" class=\"col_heading level0 col5\" >latitude_of_dropoff</th>\n",
       "      <th id=\"T_75c64_level0_col6\" class=\"col_heading level0 col6\" >no_of_passenger</th>\n",
       "      <th id=\"T_75c64_level0_col7\" class=\"col_heading level0 col7\" >hour</th>\n",
       "      <th id=\"T_75c64_level0_col8\" class=\"col_heading level0 col8\" >day</th>\n",
       "      <th id=\"T_75c64_level0_col9\" class=\"col_heading level0 col9\" >dayofweek</th>\n",
       "      <th id=\"T_75c64_level0_col10\" class=\"col_heading level0 col10\" >month</th>\n",
       "      <th id=\"T_75c64_level0_col11\" class=\"col_heading level0 col11\" >year</th>\n",
       "    </tr>\n",
       "  </thead>\n",
       "  <tbody>\n",
       "    <tr>\n",
       "      <th id=\"T_75c64_level0_row0\" class=\"row_heading level0 row0\" >0</th>\n",
       "      <td id=\"T_75c64_row0_col0\" class=\"data row0 col0\" >4.500000</td>\n",
       "      <td id=\"T_75c64_row0_col1\" class=\"data row0 col1\" >2009-06-15 17:26:21+00:00</td>\n",
       "      <td id=\"T_75c64_row0_col2\" class=\"data row0 col2\" >-73.844311</td>\n",
       "      <td id=\"T_75c64_row0_col3\" class=\"data row0 col3\" >40.721319</td>\n",
       "      <td id=\"T_75c64_row0_col4\" class=\"data row0 col4\" >-73.841610</td>\n",
       "      <td id=\"T_75c64_row0_col5\" class=\"data row0 col5\" >40.712278</td>\n",
       "      <td id=\"T_75c64_row0_col6\" class=\"data row0 col6\" >1</td>\n",
       "      <td id=\"T_75c64_row0_col7\" class=\"data row0 col7\" >17</td>\n",
       "      <td id=\"T_75c64_row0_col8\" class=\"data row0 col8\" >15</td>\n",
       "      <td id=\"T_75c64_row0_col9\" class=\"data row0 col9\" >0</td>\n",
       "      <td id=\"T_75c64_row0_col10\" class=\"data row0 col10\" >6</td>\n",
       "      <td id=\"T_75c64_row0_col11\" class=\"data row0 col11\" >2009</td>\n",
       "    </tr>\n",
       "    <tr>\n",
       "      <th id=\"T_75c64_level0_row1\" class=\"row_heading level0 row1\" >1</th>\n",
       "      <td id=\"T_75c64_row1_col0\" class=\"data row1 col0\" >16.900000</td>\n",
       "      <td id=\"T_75c64_row1_col1\" class=\"data row1 col1\" >2010-01-05 16:52:16+00:00</td>\n",
       "      <td id=\"T_75c64_row1_col2\" class=\"data row1 col2\" >-74.016048</td>\n",
       "      <td id=\"T_75c64_row1_col3\" class=\"data row1 col3\" >40.711303</td>\n",
       "      <td id=\"T_75c64_row1_col4\" class=\"data row1 col4\" >-73.979268</td>\n",
       "      <td id=\"T_75c64_row1_col5\" class=\"data row1 col5\" >40.782004</td>\n",
       "      <td id=\"T_75c64_row1_col6\" class=\"data row1 col6\" >1</td>\n",
       "      <td id=\"T_75c64_row1_col7\" class=\"data row1 col7\" >16</td>\n",
       "      <td id=\"T_75c64_row1_col8\" class=\"data row1 col8\" >5</td>\n",
       "      <td id=\"T_75c64_row1_col9\" class=\"data row1 col9\" >1</td>\n",
       "      <td id=\"T_75c64_row1_col10\" class=\"data row1 col10\" >1</td>\n",
       "      <td id=\"T_75c64_row1_col11\" class=\"data row1 col11\" >2010</td>\n",
       "    </tr>\n",
       "    <tr>\n",
       "      <th id=\"T_75c64_level0_row2\" class=\"row_heading level0 row2\" >2</th>\n",
       "      <td id=\"T_75c64_row2_col0\" class=\"data row2 col0\" >5.700000</td>\n",
       "      <td id=\"T_75c64_row2_col1\" class=\"data row2 col1\" >2011-08-18 00:35:00+00:00</td>\n",
       "      <td id=\"T_75c64_row2_col2\" class=\"data row2 col2\" >-73.982738</td>\n",
       "      <td id=\"T_75c64_row2_col3\" class=\"data row2 col3\" >40.761270</td>\n",
       "      <td id=\"T_75c64_row2_col4\" class=\"data row2 col4\" >-73.991242</td>\n",
       "      <td id=\"T_75c64_row2_col5\" class=\"data row2 col5\" >40.750562</td>\n",
       "      <td id=\"T_75c64_row2_col6\" class=\"data row2 col6\" >2</td>\n",
       "      <td id=\"T_75c64_row2_col7\" class=\"data row2 col7\" >0</td>\n",
       "      <td id=\"T_75c64_row2_col8\" class=\"data row2 col8\" >18</td>\n",
       "      <td id=\"T_75c64_row2_col9\" class=\"data row2 col9\" >3</td>\n",
       "      <td id=\"T_75c64_row2_col10\" class=\"data row2 col10\" >8</td>\n",
       "      <td id=\"T_75c64_row2_col11\" class=\"data row2 col11\" >2011</td>\n",
       "    </tr>\n",
       "    <tr>\n",
       "      <th id=\"T_75c64_level0_row3\" class=\"row_heading level0 row3\" >3</th>\n",
       "      <td id=\"T_75c64_row3_col0\" class=\"data row3 col0\" >7.700000</td>\n",
       "      <td id=\"T_75c64_row3_col1\" class=\"data row3 col1\" >2012-04-21 04:30:42+00:00</td>\n",
       "      <td id=\"T_75c64_row3_col2\" class=\"data row3 col2\" >-73.987130</td>\n",
       "      <td id=\"T_75c64_row3_col3\" class=\"data row3 col3\" >40.733143</td>\n",
       "      <td id=\"T_75c64_row3_col4\" class=\"data row3 col4\" >-73.991567</td>\n",
       "      <td id=\"T_75c64_row3_col5\" class=\"data row3 col5\" >40.758092</td>\n",
       "      <td id=\"T_75c64_row3_col6\" class=\"data row3 col6\" >1</td>\n",
       "      <td id=\"T_75c64_row3_col7\" class=\"data row3 col7\" >4</td>\n",
       "      <td id=\"T_75c64_row3_col8\" class=\"data row3 col8\" >21</td>\n",
       "      <td id=\"T_75c64_row3_col9\" class=\"data row3 col9\" >5</td>\n",
       "      <td id=\"T_75c64_row3_col10\" class=\"data row3 col10\" >4</td>\n",
       "      <td id=\"T_75c64_row3_col11\" class=\"data row3 col11\" >2012</td>\n",
       "    </tr>\n",
       "    <tr>\n",
       "      <th id=\"T_75c64_level0_row4\" class=\"row_heading level0 row4\" >4</th>\n",
       "      <td id=\"T_75c64_row4_col0\" class=\"data row4 col0\" >5.300000</td>\n",
       "      <td id=\"T_75c64_row4_col1\" class=\"data row4 col1\" >2010-03-09 07:51:00+00:00</td>\n",
       "      <td id=\"T_75c64_row4_col2\" class=\"data row4 col2\" >-73.968095</td>\n",
       "      <td id=\"T_75c64_row4_col3\" class=\"data row4 col3\" >40.768008</td>\n",
       "      <td id=\"T_75c64_row4_col4\" class=\"data row4 col4\" >-73.956655</td>\n",
       "      <td id=\"T_75c64_row4_col5\" class=\"data row4 col5\" >40.783762</td>\n",
       "      <td id=\"T_75c64_row4_col6\" class=\"data row4 col6\" >1</td>\n",
       "      <td id=\"T_75c64_row4_col7\" class=\"data row4 col7\" >7</td>\n",
       "      <td id=\"T_75c64_row4_col8\" class=\"data row4 col8\" >9</td>\n",
       "      <td id=\"T_75c64_row4_col9\" class=\"data row4 col9\" >1</td>\n",
       "      <td id=\"T_75c64_row4_col10\" class=\"data row4 col10\" >3</td>\n",
       "      <td id=\"T_75c64_row4_col11\" class=\"data row4 col11\" >2010</td>\n",
       "    </tr>\n",
       "  </tbody>\n",
       "</table>\n"
      ],
      "text/plain": [
       "<pandas.io.formats.style.Styler at 0x15cce2ba3f0>"
      ]
     },
     "execution_count": 16,
     "metadata": {},
     "output_type": "execute_result"
    }
   ],
   "source": [
    "df.head().style.background_gradient(cmap='inferno')"
   ]
  },
  {
   "cell_type": "code",
   "execution_count": 17,
   "id": "a3aecde1-e307-46c1-8bb4-fe3c80878c86",
   "metadata": {},
   "outputs": [
    {
     "data": {
      "text/html": [
       "<style type=\"text/css\">\n",
       "#T_1275b_row0_col0, #T_1275b_row0_col4, #T_1275b_row0_col5, #T_1275b_row0_col8, #T_1275b_row0_col10, #T_1275b_row1_col1, #T_1275b_row1_col2, #T_1275b_row1_col5, #T_1275b_row1_col7, #T_1275b_row1_col9, #T_1275b_row2_col3, #T_1275b_row2_col6, #T_1275b_row3_col3, #T_1275b_row3_col5, #T_1275b_row4_col5 {\n",
       "  background-color: #000004;\n",
       "  color: #f1f1f1;\n",
       "}\n",
       "#T_1275b_row0_col1, #T_1275b_row0_col3, #T_1275b_row0_col6, #T_1275b_row1_col0, #T_1275b_row2_col5, #T_1275b_row2_col9, #T_1275b_row3_col7, #T_1275b_row3_col8, #T_1275b_row3_col10, #T_1275b_row4_col2, #T_1275b_row4_col4 {\n",
       "  background-color: #fcffa4;\n",
       "  color: #000000;\n",
       "}\n",
       "#T_1275b_row0_col2 {\n",
       "  background-color: #380962;\n",
       "  color: #f1f1f1;\n",
       "}\n",
       "#T_1275b_row0_col7 {\n",
       "  background-color: #e45a31;\n",
       "  color: #f1f1f1;\n",
       "}\n",
       "#T_1275b_row0_col9 {\n",
       "  background-color: #f57d15;\n",
       "  color: #f1f1f1;\n",
       "}\n",
       "#T_1275b_row1_col3 {\n",
       "  background-color: #10092d;\n",
       "  color: #f1f1f1;\n",
       "}\n",
       "#T_1275b_row1_col4 {\n",
       "  background-color: #f4f88e;\n",
       "  color: #000000;\n",
       "}\n",
       "#T_1275b_row1_col6 {\n",
       "  background-color: #f2ea69;\n",
       "  color: #000000;\n",
       "}\n",
       "#T_1275b_row1_col8, #T_1275b_row4_col8 {\n",
       "  background-color: #420a68;\n",
       "  color: #f1f1f1;\n",
       "}\n",
       "#T_1275b_row1_col10, #T_1275b_row4_col10 {\n",
       "  background-color: #781c6d;\n",
       "  color: #f1f1f1;\n",
       "}\n",
       "#T_1275b_row2_col0 {\n",
       "  background-color: #150b37;\n",
       "  color: #f1f1f1;\n",
       "}\n",
       "#T_1275b_row2_col1 {\n",
       "  background-color: #3e0966;\n",
       "  color: #f1f1f1;\n",
       "}\n",
       "#T_1275b_row2_col2 {\n",
       "  background-color: #f8cd37;\n",
       "  color: #000000;\n",
       "}\n",
       "#T_1275b_row2_col4 {\n",
       "  background-color: #c83f4b;\n",
       "  color: #f1f1f1;\n",
       "}\n",
       "#T_1275b_row2_col7 {\n",
       "  background-color: #fcac11;\n",
       "  color: #000000;\n",
       "}\n",
       "#T_1275b_row2_col8 {\n",
       "  background-color: #dd513a;\n",
       "  color: #f1f1f1;\n",
       "}\n",
       "#T_1275b_row2_col10 {\n",
       "  background-color: #ed6925;\n",
       "  color: #f1f1f1;\n",
       "}\n",
       "#T_1275b_row3_col0 {\n",
       "  background-color: #5a116e;\n",
       "  color: #f1f1f1;\n",
       "}\n",
       "#T_1275b_row3_col1 {\n",
       "  background-color: #340a5f;\n",
       "  color: #f1f1f1;\n",
       "}\n",
       "#T_1275b_row3_col2 {\n",
       "  background-color: #8d2369;\n",
       "  color: #f1f1f1;\n",
       "}\n",
       "#T_1275b_row3_col4 {\n",
       "  background-color: #e8602d;\n",
       "  color: #f1f1f1;\n",
       "}\n",
       "#T_1275b_row3_col6 {\n",
       "  background-color: #510e6c;\n",
       "  color: #f1f1f1;\n",
       "}\n",
       "#T_1275b_row3_col9 {\n",
       "  background-color: #9f2a63;\n",
       "  color: #f1f1f1;\n",
       "}\n",
       "#T_1275b_row4_col0 {\n",
       "  background-color: #0b0724;\n",
       "  color: #f1f1f1;\n",
       "}\n",
       "#T_1275b_row4_col1 {\n",
       "  background-color: #62146e;\n",
       "  color: #f1f1f1;\n",
       "}\n",
       "#T_1275b_row4_col3 {\n",
       "  background-color: #4f0d6c;\n",
       "  color: #f1f1f1;\n",
       "}\n",
       "#T_1275b_row4_col6 {\n",
       "  background-color: #982766;\n",
       "  color: #f1f1f1;\n",
       "}\n",
       "#T_1275b_row4_col7 {\n",
       "  background-color: #57106e;\n",
       "  color: #f1f1f1;\n",
       "}\n",
       "#T_1275b_row4_col9 {\n",
       "  background-color: #65156e;\n",
       "  color: #f1f1f1;\n",
       "}\n",
       "</style>\n",
       "<table id=\"T_1275b\">\n",
       "  <thead>\n",
       "    <tr>\n",
       "      <th class=\"blank level0\" >&nbsp;</th>\n",
       "      <th id=\"T_1275b_level0_col0\" class=\"col_heading level0 col0\" >amount</th>\n",
       "      <th id=\"T_1275b_level0_col1\" class=\"col_heading level0 col1\" >longitude_of_pickup</th>\n",
       "      <th id=\"T_1275b_level0_col2\" class=\"col_heading level0 col2\" >latitude_of_pickup</th>\n",
       "      <th id=\"T_1275b_level0_col3\" class=\"col_heading level0 col3\" >longitude_of_dropoff</th>\n",
       "      <th id=\"T_1275b_level0_col4\" class=\"col_heading level0 col4\" >latitude_of_dropoff</th>\n",
       "      <th id=\"T_1275b_level0_col5\" class=\"col_heading level0 col5\" >no_of_passenger</th>\n",
       "      <th id=\"T_1275b_level0_col6\" class=\"col_heading level0 col6\" >hour</th>\n",
       "      <th id=\"T_1275b_level0_col7\" class=\"col_heading level0 col7\" >day</th>\n",
       "      <th id=\"T_1275b_level0_col8\" class=\"col_heading level0 col8\" >dayofweek</th>\n",
       "      <th id=\"T_1275b_level0_col9\" class=\"col_heading level0 col9\" >month</th>\n",
       "      <th id=\"T_1275b_level0_col10\" class=\"col_heading level0 col10\" >year</th>\n",
       "    </tr>\n",
       "  </thead>\n",
       "  <tbody>\n",
       "    <tr>\n",
       "      <th id=\"T_1275b_level0_row0\" class=\"row_heading level0 row0\" >0</th>\n",
       "      <td id=\"T_1275b_row0_col0\" class=\"data row0 col0\" >4.500000</td>\n",
       "      <td id=\"T_1275b_row0_col1\" class=\"data row0 col1\" >-73.844311</td>\n",
       "      <td id=\"T_1275b_row0_col2\" class=\"data row0 col2\" >40.721319</td>\n",
       "      <td id=\"T_1275b_row0_col3\" class=\"data row0 col3\" >-73.841610</td>\n",
       "      <td id=\"T_1275b_row0_col4\" class=\"data row0 col4\" >40.712278</td>\n",
       "      <td id=\"T_1275b_row0_col5\" class=\"data row0 col5\" >1</td>\n",
       "      <td id=\"T_1275b_row0_col6\" class=\"data row0 col6\" >17</td>\n",
       "      <td id=\"T_1275b_row0_col7\" class=\"data row0 col7\" >15</td>\n",
       "      <td id=\"T_1275b_row0_col8\" class=\"data row0 col8\" >0</td>\n",
       "      <td id=\"T_1275b_row0_col9\" class=\"data row0 col9\" >6</td>\n",
       "      <td id=\"T_1275b_row0_col10\" class=\"data row0 col10\" >2009</td>\n",
       "    </tr>\n",
       "    <tr>\n",
       "      <th id=\"T_1275b_level0_row1\" class=\"row_heading level0 row1\" >1</th>\n",
       "      <td id=\"T_1275b_row1_col0\" class=\"data row1 col0\" >16.900000</td>\n",
       "      <td id=\"T_1275b_row1_col1\" class=\"data row1 col1\" >-74.016048</td>\n",
       "      <td id=\"T_1275b_row1_col2\" class=\"data row1 col2\" >40.711303</td>\n",
       "      <td id=\"T_1275b_row1_col3\" class=\"data row1 col3\" >-73.979268</td>\n",
       "      <td id=\"T_1275b_row1_col4\" class=\"data row1 col4\" >40.782004</td>\n",
       "      <td id=\"T_1275b_row1_col5\" class=\"data row1 col5\" >1</td>\n",
       "      <td id=\"T_1275b_row1_col6\" class=\"data row1 col6\" >16</td>\n",
       "      <td id=\"T_1275b_row1_col7\" class=\"data row1 col7\" >5</td>\n",
       "      <td id=\"T_1275b_row1_col8\" class=\"data row1 col8\" >1</td>\n",
       "      <td id=\"T_1275b_row1_col9\" class=\"data row1 col9\" >1</td>\n",
       "      <td id=\"T_1275b_row1_col10\" class=\"data row1 col10\" >2010</td>\n",
       "    </tr>\n",
       "    <tr>\n",
       "      <th id=\"T_1275b_level0_row2\" class=\"row_heading level0 row2\" >2</th>\n",
       "      <td id=\"T_1275b_row2_col0\" class=\"data row2 col0\" >5.700000</td>\n",
       "      <td id=\"T_1275b_row2_col1\" class=\"data row2 col1\" >-73.982738</td>\n",
       "      <td id=\"T_1275b_row2_col2\" class=\"data row2 col2\" >40.761270</td>\n",
       "      <td id=\"T_1275b_row2_col3\" class=\"data row2 col3\" >-73.991242</td>\n",
       "      <td id=\"T_1275b_row2_col4\" class=\"data row2 col4\" >40.750562</td>\n",
       "      <td id=\"T_1275b_row2_col5\" class=\"data row2 col5\" >2</td>\n",
       "      <td id=\"T_1275b_row2_col6\" class=\"data row2 col6\" >0</td>\n",
       "      <td id=\"T_1275b_row2_col7\" class=\"data row2 col7\" >18</td>\n",
       "      <td id=\"T_1275b_row2_col8\" class=\"data row2 col8\" >3</td>\n",
       "      <td id=\"T_1275b_row2_col9\" class=\"data row2 col9\" >8</td>\n",
       "      <td id=\"T_1275b_row2_col10\" class=\"data row2 col10\" >2011</td>\n",
       "    </tr>\n",
       "    <tr>\n",
       "      <th id=\"T_1275b_level0_row3\" class=\"row_heading level0 row3\" >3</th>\n",
       "      <td id=\"T_1275b_row3_col0\" class=\"data row3 col0\" >7.700000</td>\n",
       "      <td id=\"T_1275b_row3_col1\" class=\"data row3 col1\" >-73.987130</td>\n",
       "      <td id=\"T_1275b_row3_col2\" class=\"data row3 col2\" >40.733143</td>\n",
       "      <td id=\"T_1275b_row3_col3\" class=\"data row3 col3\" >-73.991567</td>\n",
       "      <td id=\"T_1275b_row3_col4\" class=\"data row3 col4\" >40.758092</td>\n",
       "      <td id=\"T_1275b_row3_col5\" class=\"data row3 col5\" >1</td>\n",
       "      <td id=\"T_1275b_row3_col6\" class=\"data row3 col6\" >4</td>\n",
       "      <td id=\"T_1275b_row3_col7\" class=\"data row3 col7\" >21</td>\n",
       "      <td id=\"T_1275b_row3_col8\" class=\"data row3 col8\" >5</td>\n",
       "      <td id=\"T_1275b_row3_col9\" class=\"data row3 col9\" >4</td>\n",
       "      <td id=\"T_1275b_row3_col10\" class=\"data row3 col10\" >2012</td>\n",
       "    </tr>\n",
       "    <tr>\n",
       "      <th id=\"T_1275b_level0_row4\" class=\"row_heading level0 row4\" >4</th>\n",
       "      <td id=\"T_1275b_row4_col0\" class=\"data row4 col0\" >5.300000</td>\n",
       "      <td id=\"T_1275b_row4_col1\" class=\"data row4 col1\" >-73.968095</td>\n",
       "      <td id=\"T_1275b_row4_col2\" class=\"data row4 col2\" >40.768008</td>\n",
       "      <td id=\"T_1275b_row4_col3\" class=\"data row4 col3\" >-73.956655</td>\n",
       "      <td id=\"T_1275b_row4_col4\" class=\"data row4 col4\" >40.783762</td>\n",
       "      <td id=\"T_1275b_row4_col5\" class=\"data row4 col5\" >1</td>\n",
       "      <td id=\"T_1275b_row4_col6\" class=\"data row4 col6\" >7</td>\n",
       "      <td id=\"T_1275b_row4_col7\" class=\"data row4 col7\" >9</td>\n",
       "      <td id=\"T_1275b_row4_col8\" class=\"data row4 col8\" >1</td>\n",
       "      <td id=\"T_1275b_row4_col9\" class=\"data row4 col9\" >3</td>\n",
       "      <td id=\"T_1275b_row4_col10\" class=\"data row4 col10\" >2010</td>\n",
       "    </tr>\n",
       "  </tbody>\n",
       "</table>\n"
      ],
      "text/plain": [
       "<pandas.io.formats.style.Styler at 0x15cce2bbcb0>"
      ]
     },
     "execution_count": 17,
     "metadata": {},
     "output_type": "execute_result"
    }
   ],
   "source": [
    "df.drop(['date_time_of_pickup'],axis=1,inplace=True)\n",
    "df.head().style.background_gradient(cmap='inferno')"
   ]
  },
  {
   "cell_type": "code",
   "execution_count": 18,
   "id": "dcde8bd6-5834-49cf-8072-17d3103a3a0b",
   "metadata": {},
   "outputs": [],
   "source": [
    "from math import radians, cos, sin, sqrt, asin"
   ]
  },
  {
   "cell_type": "code",
   "execution_count": 19,
   "id": "ad11f756-4cdb-48ad-bb78-21dccb3a05c9",
   "metadata": {},
   "outputs": [],
   "source": [
    "def distance_transform(longitude1, latitude1, longitude2, latitude2):\n",
    "    travel_distance = []\n",
    "    \n",
    "    for i in range(len(longitude1)):\n",
    "        long1,lati1,long2,lati2 = map(radians,[longitude1[i],latitude1[i],longitude2[i],latitude2[i]])\n",
    "        dist_long = long2 - long1\n",
    "        dist_lati = lati2 - lati1\n",
    "        a = sin(dist_lati/2)**2 + cos(lati1) * cos(lati2) * sin(dist_long/2)**2\n",
    "        c = 2*asin(sqrt(a))*6371    # 6371 is the radias of earth while measuring the distance of longitude and latitude \n",
    "        travel_distance.append(c)\n",
    "        \n",
    "    return travel_distance"
   ]
  },
  {
   "cell_type": "code",
   "execution_count": 20,
   "id": "d8851f24-5417-474b-b3dd-a505c535cfac",
   "metadata": {},
   "outputs": [],
   "source": [
    "df['travel_distance_klm']=distance_transform(df['longitude_of_pickup'].to_numpy(),\n",
    "                                             df['latitude_of_pickup'].to_numpy(),\n",
    "                                             df['longitude_of_dropoff'].to_numpy(),\n",
    "                                             df['latitude_of_dropoff'].to_numpy())"
   ]
  },
  {
   "cell_type": "code",
   "execution_count": 21,
   "id": "ac46c476-3ba7-4221-a720-0205d384acad",
   "metadata": {},
   "outputs": [
    {
     "data": {
      "text/html": [
       "<style type=\"text/css\">\n",
       "#T_7863d_row0_col0, #T_7863d_row0_col4, #T_7863d_row0_col5, #T_7863d_row0_col8, #T_7863d_row0_col10, #T_7863d_row0_col11, #T_7863d_row1_col1, #T_7863d_row1_col2, #T_7863d_row1_col5, #T_7863d_row1_col7, #T_7863d_row1_col9, #T_7863d_row2_col3, #T_7863d_row2_col6, #T_7863d_row3_col3, #T_7863d_row3_col5, #T_7863d_row4_col5 {\n",
       "  background-color: #000000;\n",
       "  color: #f1f1f1;\n",
       "}\n",
       "#T_7863d_row0_col1, #T_7863d_row0_col3, #T_7863d_row0_col6, #T_7863d_row1_col0, #T_7863d_row1_col11, #T_7863d_row2_col5, #T_7863d_row2_col9, #T_7863d_row3_col7, #T_7863d_row3_col8, #T_7863d_row3_col10, #T_7863d_row4_col2, #T_7863d_row4_col4 {\n",
       "  background-color: #cccccc;\n",
       "  color: #000000;\n",
       "}\n",
       "#T_7863d_row0_col2 {\n",
       "  background-color: #0000c5;\n",
       "  color: #f1f1f1;\n",
       "}\n",
       "#T_7863d_row0_col7 {\n",
       "  background-color: #67ff00;\n",
       "  color: #000000;\n",
       "}\n",
       "#T_7863d_row0_col9 {\n",
       "  background-color: #f3e500;\n",
       "  color: #000000;\n",
       "}\n",
       "#T_7863d_row1_col3 {\n",
       "  background-color: #810092;\n",
       "  color: #f1f1f1;\n",
       "}\n",
       "#T_7863d_row1_col4 {\n",
       "  background-color: #cc6c6c;\n",
       "  color: #f1f1f1;\n",
       "}\n",
       "#T_7863d_row1_col6 {\n",
       "  background-color: #cf0000;\n",
       "  color: #f1f1f1;\n",
       "}\n",
       "#T_7863d_row1_col8, #T_7863d_row4_col8 {\n",
       "  background-color: #0000dd;\n",
       "  color: #f1f1f1;\n",
       "}\n",
       "#T_7863d_row1_col10, #T_7863d_row4_col10 {\n",
       "  background-color: #00a4bb;\n",
       "  color: #f1f1f1;\n",
       "}\n",
       "#T_7863d_row2_col0 {\n",
       "  background-color: #860097;\n",
       "  color: #f1f1f1;\n",
       "}\n",
       "#T_7863d_row2_col1 {\n",
       "  background-color: #0000d5;\n",
       "  color: #f1f1f1;\n",
       "}\n",
       "#T_7863d_row2_col2 {\n",
       "  background-color: #e90000;\n",
       "  color: #f1f1f1;\n",
       "}\n",
       "#T_7863d_row2_col4 {\n",
       "  background-color: #00d400;\n",
       "  color: #000000;\n",
       "}\n",
       "#T_7863d_row2_col7 {\n",
       "  background-color: #ff6900;\n",
       "  color: #f1f1f1;\n",
       "}\n",
       "#T_7863d_row2_col8 {\n",
       "  background-color: #00ff00;\n",
       "  color: #000000;\n",
       "}\n",
       "#T_7863d_row2_col10 {\n",
       "  background-color: #ccf900;\n",
       "  color: #000000;\n",
       "}\n",
       "#T_7863d_row2_col11 {\n",
       "  background-color: #700080;\n",
       "  color: #f1f1f1;\n",
       "}\n",
       "#T_7863d_row3_col0 {\n",
       "  background-color: #007ddd;\n",
       "  color: #f1f1f1;\n",
       "}\n",
       "#T_7863d_row3_col1 {\n",
       "  background-color: #0000bd;\n",
       "  color: #f1f1f1;\n",
       "}\n",
       "#T_7863d_row3_col2 {\n",
       "  background-color: #00aa93;\n",
       "  color: #f1f1f1;\n",
       "}\n",
       "#T_7863d_row3_col4 {\n",
       "  background-color: #a1ff00;\n",
       "  color: #000000;\n",
       "}\n",
       "#T_7863d_row3_col6 {\n",
       "  background-color: #0054dd;\n",
       "  color: #f1f1f1;\n",
       "}\n",
       "#T_7863d_row3_col9 {\n",
       "  background-color: #00a13d;\n",
       "  color: #f1f1f1;\n",
       "}\n",
       "#T_7863d_row3_col11 {\n",
       "  background-color: #005ddd;\n",
       "  color: #f1f1f1;\n",
       "}\n",
       "#T_7863d_row4_col0 {\n",
       "  background-color: #7b008c;\n",
       "  color: #f1f1f1;\n",
       "}\n",
       "#T_7863d_row4_col1 {\n",
       "  background-color: #008add;\n",
       "  color: #f1f1f1;\n",
       "}\n",
       "#T_7863d_row4_col3 {\n",
       "  background-color: #004bdd;\n",
       "  color: #f1f1f1;\n",
       "}\n",
       "#T_7863d_row4_col6 {\n",
       "  background-color: #00a668;\n",
       "  color: #f1f1f1;\n",
       "}\n",
       "#T_7863d_row4_col7 {\n",
       "  background-color: #0078dd;\n",
       "  color: #f1f1f1;\n",
       "}\n",
       "#T_7863d_row4_col9 {\n",
       "  background-color: #0090dd;\n",
       "  color: #f1f1f1;\n",
       "}\n",
       "#T_7863d_row4_col11 {\n",
       "  background-color: #3800a3;\n",
       "  color: #f1f1f1;\n",
       "}\n",
       "</style>\n",
       "<table id=\"T_7863d\">\n",
       "  <thead>\n",
       "    <tr>\n",
       "      <th class=\"blank level0\" >&nbsp;</th>\n",
       "      <th id=\"T_7863d_level0_col0\" class=\"col_heading level0 col0\" >amount</th>\n",
       "      <th id=\"T_7863d_level0_col1\" class=\"col_heading level0 col1\" >longitude_of_pickup</th>\n",
       "      <th id=\"T_7863d_level0_col2\" class=\"col_heading level0 col2\" >latitude_of_pickup</th>\n",
       "      <th id=\"T_7863d_level0_col3\" class=\"col_heading level0 col3\" >longitude_of_dropoff</th>\n",
       "      <th id=\"T_7863d_level0_col4\" class=\"col_heading level0 col4\" >latitude_of_dropoff</th>\n",
       "      <th id=\"T_7863d_level0_col5\" class=\"col_heading level0 col5\" >no_of_passenger</th>\n",
       "      <th id=\"T_7863d_level0_col6\" class=\"col_heading level0 col6\" >hour</th>\n",
       "      <th id=\"T_7863d_level0_col7\" class=\"col_heading level0 col7\" >day</th>\n",
       "      <th id=\"T_7863d_level0_col8\" class=\"col_heading level0 col8\" >dayofweek</th>\n",
       "      <th id=\"T_7863d_level0_col9\" class=\"col_heading level0 col9\" >month</th>\n",
       "      <th id=\"T_7863d_level0_col10\" class=\"col_heading level0 col10\" >year</th>\n",
       "      <th id=\"T_7863d_level0_col11\" class=\"col_heading level0 col11\" >travel_distance_klm</th>\n",
       "    </tr>\n",
       "  </thead>\n",
       "  <tbody>\n",
       "    <tr>\n",
       "      <th id=\"T_7863d_level0_row0\" class=\"row_heading level0 row0\" >0</th>\n",
       "      <td id=\"T_7863d_row0_col0\" class=\"data row0 col0\" >4.500000</td>\n",
       "      <td id=\"T_7863d_row0_col1\" class=\"data row0 col1\" >-73.844311</td>\n",
       "      <td id=\"T_7863d_row0_col2\" class=\"data row0 col2\" >40.721319</td>\n",
       "      <td id=\"T_7863d_row0_col3\" class=\"data row0 col3\" >-73.841610</td>\n",
       "      <td id=\"T_7863d_row0_col4\" class=\"data row0 col4\" >40.712278</td>\n",
       "      <td id=\"T_7863d_row0_col5\" class=\"data row0 col5\" >1</td>\n",
       "      <td id=\"T_7863d_row0_col6\" class=\"data row0 col6\" >17</td>\n",
       "      <td id=\"T_7863d_row0_col7\" class=\"data row0 col7\" >15</td>\n",
       "      <td id=\"T_7863d_row0_col8\" class=\"data row0 col8\" >0</td>\n",
       "      <td id=\"T_7863d_row0_col9\" class=\"data row0 col9\" >6</td>\n",
       "      <td id=\"T_7863d_row0_col10\" class=\"data row0 col10\" >2009</td>\n",
       "      <td id=\"T_7863d_row0_col11\" class=\"data row0 col11\" >1.030764</td>\n",
       "    </tr>\n",
       "    <tr>\n",
       "      <th id=\"T_7863d_level0_row1\" class=\"row_heading level0 row1\" >1</th>\n",
       "      <td id=\"T_7863d_row1_col0\" class=\"data row1 col0\" >16.900000</td>\n",
       "      <td id=\"T_7863d_row1_col1\" class=\"data row1 col1\" >-74.016048</td>\n",
       "      <td id=\"T_7863d_row1_col2\" class=\"data row1 col2\" >40.711303</td>\n",
       "      <td id=\"T_7863d_row1_col3\" class=\"data row1 col3\" >-73.979268</td>\n",
       "      <td id=\"T_7863d_row1_col4\" class=\"data row1 col4\" >40.782004</td>\n",
       "      <td id=\"T_7863d_row1_col5\" class=\"data row1 col5\" >1</td>\n",
       "      <td id=\"T_7863d_row1_col6\" class=\"data row1 col6\" >16</td>\n",
       "      <td id=\"T_7863d_row1_col7\" class=\"data row1 col7\" >5</td>\n",
       "      <td id=\"T_7863d_row1_col8\" class=\"data row1 col8\" >1</td>\n",
       "      <td id=\"T_7863d_row1_col9\" class=\"data row1 col9\" >1</td>\n",
       "      <td id=\"T_7863d_row1_col10\" class=\"data row1 col10\" >2010</td>\n",
       "      <td id=\"T_7863d_row1_col11\" class=\"data row1 col11\" >8.450134</td>\n",
       "    </tr>\n",
       "    <tr>\n",
       "      <th id=\"T_7863d_level0_row2\" class=\"row_heading level0 row2\" >2</th>\n",
       "      <td id=\"T_7863d_row2_col0\" class=\"data row2 col0\" >5.700000</td>\n",
       "      <td id=\"T_7863d_row2_col1\" class=\"data row2 col1\" >-73.982738</td>\n",
       "      <td id=\"T_7863d_row2_col2\" class=\"data row2 col2\" >40.761270</td>\n",
       "      <td id=\"T_7863d_row2_col3\" class=\"data row2 col3\" >-73.991242</td>\n",
       "      <td id=\"T_7863d_row2_col4\" class=\"data row2 col4\" >40.750562</td>\n",
       "      <td id=\"T_7863d_row2_col5\" class=\"data row2 col5\" >2</td>\n",
       "      <td id=\"T_7863d_row2_col6\" class=\"data row2 col6\" >0</td>\n",
       "      <td id=\"T_7863d_row2_col7\" class=\"data row2 col7\" >18</td>\n",
       "      <td id=\"T_7863d_row2_col8\" class=\"data row2 col8\" >3</td>\n",
       "      <td id=\"T_7863d_row2_col9\" class=\"data row2 col9\" >8</td>\n",
       "      <td id=\"T_7863d_row2_col10\" class=\"data row2 col10\" >2011</td>\n",
       "      <td id=\"T_7863d_row2_col11\" class=\"data row2 col11\" >1.389525</td>\n",
       "    </tr>\n",
       "    <tr>\n",
       "      <th id=\"T_7863d_level0_row3\" class=\"row_heading level0 row3\" >3</th>\n",
       "      <td id=\"T_7863d_row3_col0\" class=\"data row3 col0\" >7.700000</td>\n",
       "      <td id=\"T_7863d_row3_col1\" class=\"data row3 col1\" >-73.987130</td>\n",
       "      <td id=\"T_7863d_row3_col2\" class=\"data row3 col2\" >40.733143</td>\n",
       "      <td id=\"T_7863d_row3_col3\" class=\"data row3 col3\" >-73.991567</td>\n",
       "      <td id=\"T_7863d_row3_col4\" class=\"data row3 col4\" >40.758092</td>\n",
       "      <td id=\"T_7863d_row3_col5\" class=\"data row3 col5\" >1</td>\n",
       "      <td id=\"T_7863d_row3_col6\" class=\"data row3 col6\" >4</td>\n",
       "      <td id=\"T_7863d_row3_col7\" class=\"data row3 col7\" >21</td>\n",
       "      <td id=\"T_7863d_row3_col8\" class=\"data row3 col8\" >5</td>\n",
       "      <td id=\"T_7863d_row3_col9\" class=\"data row3 col9\" >4</td>\n",
       "      <td id=\"T_7863d_row3_col10\" class=\"data row3 col10\" >2012</td>\n",
       "      <td id=\"T_7863d_row3_col11\" class=\"data row3 col11\" >2.799270</td>\n",
       "    </tr>\n",
       "    <tr>\n",
       "      <th id=\"T_7863d_level0_row4\" class=\"row_heading level0 row4\" >4</th>\n",
       "      <td id=\"T_7863d_row4_col0\" class=\"data row4 col0\" >5.300000</td>\n",
       "      <td id=\"T_7863d_row4_col1\" class=\"data row4 col1\" >-73.968095</td>\n",
       "      <td id=\"T_7863d_row4_col2\" class=\"data row4 col2\" >40.768008</td>\n",
       "      <td id=\"T_7863d_row4_col3\" class=\"data row4 col3\" >-73.956655</td>\n",
       "      <td id=\"T_7863d_row4_col4\" class=\"data row4 col4\" >40.783762</td>\n",
       "      <td id=\"T_7863d_row4_col5\" class=\"data row4 col5\" >1</td>\n",
       "      <td id=\"T_7863d_row4_col6\" class=\"data row4 col6\" >7</td>\n",
       "      <td id=\"T_7863d_row4_col7\" class=\"data row4 col7\" >9</td>\n",
       "      <td id=\"T_7863d_row4_col8\" class=\"data row4 col8\" >1</td>\n",
       "      <td id=\"T_7863d_row4_col9\" class=\"data row4 col9\" >3</td>\n",
       "      <td id=\"T_7863d_row4_col10\" class=\"data row4 col10\" >2010</td>\n",
       "      <td id=\"T_7863d_row4_col11\" class=\"data row4 col11\" >1.999157</td>\n",
       "    </tr>\n",
       "  </tbody>\n",
       "</table>\n"
      ],
      "text/plain": [
       "<pandas.io.formats.style.Styler at 0x15cce2daa50>"
      ]
     },
     "execution_count": 21,
     "metadata": {},
     "output_type": "execute_result"
    }
   ],
   "source": [
    "df.head().style.background_gradient(cmap='nipy_spectral')"
   ]
  },
  {
   "cell_type": "code",
   "execution_count": 22,
   "id": "c2dde973-eeb0-47d5-869c-538ee166ffa4",
   "metadata": {},
   "outputs": [
    {
     "data": {
      "text/plain": [
       "dayofweek\n",
       "6    6518\n",
       "0    6639\n",
       "1    6927\n",
       "2    7212\n",
       "3    7406\n",
       "5    7630\n",
       "4    7668\n",
       "Name: count, dtype: int64"
      ]
     },
     "execution_count": 22,
     "metadata": {},
     "output_type": "execute_result"
    }
   ],
   "source": [
    "df.dayofweek.value_counts().sort_values()"
   ]
  },
  {
   "cell_type": "markdown",
   "id": "29659af8-b2f9-401e-bc36-0be6dcb93098",
   "metadata": {},
   "source": [
    "#### The taxi demand is at the peak on friday "
   ]
  },
  {
   "cell_type": "code",
   "execution_count": 23,
   "id": "b2486eb2-9d8f-4163-a29a-4ca1b5cb4545",
   "metadata": {},
   "outputs": [
    {
     "data": {
      "text/html": [
       "<style type=\"text/css\">\n",
       "#T_fcebe_row0_col0, #T_fcebe_row0_col1, #T_fcebe_row0_col2, #T_fcebe_row0_col3, #T_fcebe_row0_col4, #T_fcebe_row0_col5, #T_fcebe_row0_col6, #T_fcebe_row0_col7, #T_fcebe_row0_col8, #T_fcebe_row0_col9, #T_fcebe_row0_col10, #T_fcebe_row0_col11 {\n",
       "  background-color: #de9ed6;\n",
       "  color: #000000;\n",
       "}\n",
       "#T_fcebe_row1_col0, #T_fcebe_row1_col1, #T_fcebe_row1_col2, #T_fcebe_row1_col3, #T_fcebe_row1_col4, #T_fcebe_row1_col5, #T_fcebe_row1_col6, #T_fcebe_row1_col7, #T_fcebe_row1_col8, #T_fcebe_row1_col9, #T_fcebe_row1_col10, #T_fcebe_row1_col11, #T_fcebe_row2_col0, #T_fcebe_row2_col1, #T_fcebe_row2_col2, #T_fcebe_row2_col3, #T_fcebe_row2_col4, #T_fcebe_row2_col5, #T_fcebe_row2_col6, #T_fcebe_row2_col7, #T_fcebe_row2_col8, #T_fcebe_row2_col9, #T_fcebe_row2_col10, #T_fcebe_row2_col11, #T_fcebe_row3_col0, #T_fcebe_row3_col1, #T_fcebe_row3_col2, #T_fcebe_row3_col3, #T_fcebe_row3_col4, #T_fcebe_row3_col5, #T_fcebe_row3_col6, #T_fcebe_row3_col7, #T_fcebe_row3_col8, #T_fcebe_row3_col9, #T_fcebe_row3_col10, #T_fcebe_row3_col11, #T_fcebe_row4_col0, #T_fcebe_row4_col1, #T_fcebe_row4_col2, #T_fcebe_row4_col3, #T_fcebe_row4_col4, #T_fcebe_row4_col5, #T_fcebe_row4_col6, #T_fcebe_row4_col7, #T_fcebe_row4_col8, #T_fcebe_row4_col9, #T_fcebe_row4_col10, #T_fcebe_row4_col11, #T_fcebe_row5_col0, #T_fcebe_row5_col1, #T_fcebe_row5_col2, #T_fcebe_row5_col3, #T_fcebe_row5_col4, #T_fcebe_row5_col5, #T_fcebe_row5_col6, #T_fcebe_row5_col7, #T_fcebe_row5_col8, #T_fcebe_row5_col9, #T_fcebe_row5_col10, #T_fcebe_row5_col11, #T_fcebe_row6_col0, #T_fcebe_row6_col1, #T_fcebe_row6_col2, #T_fcebe_row6_col3, #T_fcebe_row6_col4, #T_fcebe_row6_col5, #T_fcebe_row6_col6, #T_fcebe_row6_col7, #T_fcebe_row6_col8, #T_fcebe_row6_col9, #T_fcebe_row6_col10, #T_fcebe_row6_col11, #T_fcebe_row7_col0, #T_fcebe_row7_col1, #T_fcebe_row7_col2, #T_fcebe_row7_col3, #T_fcebe_row7_col4, #T_fcebe_row7_col5, #T_fcebe_row7_col6, #T_fcebe_row7_col7, #T_fcebe_row7_col8, #T_fcebe_row7_col9, #T_fcebe_row7_col10 {\n",
       "  background-color: #393b79;\n",
       "  color: #f1f1f1;\n",
       "}\n",
       "#T_fcebe_row7_col11 {\n",
       "  background-color: #9c9ede;\n",
       "  color: #f1f1f1;\n",
       "}\n",
       "</style>\n",
       "<table id=\"T_fcebe\">\n",
       "  <thead>\n",
       "    <tr>\n",
       "      <th class=\"blank level0\" >&nbsp;</th>\n",
       "      <th id=\"T_fcebe_level0_col0\" class=\"col_heading level0 col0\" >amount</th>\n",
       "      <th id=\"T_fcebe_level0_col1\" class=\"col_heading level0 col1\" >longitude_of_pickup</th>\n",
       "      <th id=\"T_fcebe_level0_col2\" class=\"col_heading level0 col2\" >latitude_of_pickup</th>\n",
       "      <th id=\"T_fcebe_level0_col3\" class=\"col_heading level0 col3\" >longitude_of_dropoff</th>\n",
       "      <th id=\"T_fcebe_level0_col4\" class=\"col_heading level0 col4\" >latitude_of_dropoff</th>\n",
       "      <th id=\"T_fcebe_level0_col5\" class=\"col_heading level0 col5\" >no_of_passenger</th>\n",
       "      <th id=\"T_fcebe_level0_col6\" class=\"col_heading level0 col6\" >hour</th>\n",
       "      <th id=\"T_fcebe_level0_col7\" class=\"col_heading level0 col7\" >day</th>\n",
       "      <th id=\"T_fcebe_level0_col8\" class=\"col_heading level0 col8\" >dayofweek</th>\n",
       "      <th id=\"T_fcebe_level0_col9\" class=\"col_heading level0 col9\" >month</th>\n",
       "      <th id=\"T_fcebe_level0_col10\" class=\"col_heading level0 col10\" >year</th>\n",
       "      <th id=\"T_fcebe_level0_col11\" class=\"col_heading level0 col11\" >travel_distance_klm</th>\n",
       "    </tr>\n",
       "  </thead>\n",
       "  <tbody>\n",
       "    <tr>\n",
       "      <th id=\"T_fcebe_level0_row0\" class=\"row_heading level0 row0\" >count</th>\n",
       "      <td id=\"T_fcebe_row0_col0\" class=\"data row0 col0\" >50000.000000</td>\n",
       "      <td id=\"T_fcebe_row0_col1\" class=\"data row0 col1\" >50000.000000</td>\n",
       "      <td id=\"T_fcebe_row0_col2\" class=\"data row0 col2\" >50000.000000</td>\n",
       "      <td id=\"T_fcebe_row0_col3\" class=\"data row0 col3\" >50000.000000</td>\n",
       "      <td id=\"T_fcebe_row0_col4\" class=\"data row0 col4\" >50000.000000</td>\n",
       "      <td id=\"T_fcebe_row0_col5\" class=\"data row0 col5\" >50000.000000</td>\n",
       "      <td id=\"T_fcebe_row0_col6\" class=\"data row0 col6\" >50000.000000</td>\n",
       "      <td id=\"T_fcebe_row0_col7\" class=\"data row0 col7\" >50000.000000</td>\n",
       "      <td id=\"T_fcebe_row0_col8\" class=\"data row0 col8\" >50000.000000</td>\n",
       "      <td id=\"T_fcebe_row0_col9\" class=\"data row0 col9\" >50000.000000</td>\n",
       "      <td id=\"T_fcebe_row0_col10\" class=\"data row0 col10\" >50000.000000</td>\n",
       "      <td id=\"T_fcebe_row0_col11\" class=\"data row0 col11\" >50000.000000</td>\n",
       "    </tr>\n",
       "    <tr>\n",
       "      <th id=\"T_fcebe_level0_row1\" class=\"row_heading level0 row1\" >mean</th>\n",
       "      <td id=\"T_fcebe_row1_col0\" class=\"data row1 col0\" >11.364171</td>\n",
       "      <td id=\"T_fcebe_row1_col1\" class=\"data row1 col1\" >-72.509756</td>\n",
       "      <td id=\"T_fcebe_row1_col2\" class=\"data row1 col2\" >39.933759</td>\n",
       "      <td id=\"T_fcebe_row1_col3\" class=\"data row1 col3\" >-72.504616</td>\n",
       "      <td id=\"T_fcebe_row1_col4\" class=\"data row1 col4\" >39.926251</td>\n",
       "      <td id=\"T_fcebe_row1_col5\" class=\"data row1 col5\" >1.667840</td>\n",
       "      <td id=\"T_fcebe_row1_col6\" class=\"data row1 col6\" >13.489080</td>\n",
       "      <td id=\"T_fcebe_row1_col7\" class=\"data row1 col7\" >15.672040</td>\n",
       "      <td id=\"T_fcebe_row1_col8\" class=\"data row1 col8\" >3.029980</td>\n",
       "      <td id=\"T_fcebe_row1_col9\" class=\"data row1 col9\" >6.273300</td>\n",
       "      <td id=\"T_fcebe_row1_col10\" class=\"data row1 col10\" >2011.739260</td>\n",
       "      <td id=\"T_fcebe_row1_col11\" class=\"data row1 col11\" >18.508946</td>\n",
       "    </tr>\n",
       "    <tr>\n",
       "      <th id=\"T_fcebe_level0_row2\" class=\"row_heading level0 row2\" >std</th>\n",
       "      <td id=\"T_fcebe_row2_col0\" class=\"data row2 col0\" >9.685557</td>\n",
       "      <td id=\"T_fcebe_row2_col1\" class=\"data row2 col1\" >10.393860</td>\n",
       "      <td id=\"T_fcebe_row2_col2\" class=\"data row2 col2\" >6.224857</td>\n",
       "      <td id=\"T_fcebe_row2_col3\" class=\"data row2 col3\" >10.407570</td>\n",
       "      <td id=\"T_fcebe_row2_col4\" class=\"data row2 col4\" >6.014737</td>\n",
       "      <td id=\"T_fcebe_row2_col5\" class=\"data row2 col5\" >1.289195</td>\n",
       "      <td id=\"T_fcebe_row2_col6\" class=\"data row2 col6\" >6.506935</td>\n",
       "      <td id=\"T_fcebe_row2_col7\" class=\"data row2 col7\" >8.660789</td>\n",
       "      <td id=\"T_fcebe_row2_col8\" class=\"data row2 col8\" >1.956936</td>\n",
       "      <td id=\"T_fcebe_row2_col9\" class=\"data row2 col9\" >3.461157</td>\n",
       "      <td id=\"T_fcebe_row2_col10\" class=\"data row2 col10\" >1.862639</td>\n",
       "      <td id=\"T_fcebe_row2_col11\" class=\"data row2 col11\" >355.564309</td>\n",
       "    </tr>\n",
       "    <tr>\n",
       "      <th id=\"T_fcebe_level0_row3\" class=\"row_heading level0 row3\" >min</th>\n",
       "      <td id=\"T_fcebe_row3_col0\" class=\"data row3 col0\" >-5.000000</td>\n",
       "      <td id=\"T_fcebe_row3_col1\" class=\"data row3 col1\" >-75.423848</td>\n",
       "      <td id=\"T_fcebe_row3_col2\" class=\"data row3 col2\" >-74.006893</td>\n",
       "      <td id=\"T_fcebe_row3_col3\" class=\"data row3 col3\" >-84.654241</td>\n",
       "      <td id=\"T_fcebe_row3_col4\" class=\"data row3 col4\" >-74.006377</td>\n",
       "      <td id=\"T_fcebe_row3_col5\" class=\"data row3 col5\" >0.000000</td>\n",
       "      <td id=\"T_fcebe_row3_col6\" class=\"data row3 col6\" >0.000000</td>\n",
       "      <td id=\"T_fcebe_row3_col7\" class=\"data row3 col7\" >1.000000</td>\n",
       "      <td id=\"T_fcebe_row3_col8\" class=\"data row3 col8\" >0.000000</td>\n",
       "      <td id=\"T_fcebe_row3_col9\" class=\"data row3 col9\" >1.000000</td>\n",
       "      <td id=\"T_fcebe_row3_col10\" class=\"data row3 col10\" >2009.000000</td>\n",
       "      <td id=\"T_fcebe_row3_col11\" class=\"data row3 col11\" >0.000000</td>\n",
       "    </tr>\n",
       "    <tr>\n",
       "      <th id=\"T_fcebe_level0_row4\" class=\"row_heading level0 row4\" >25%</th>\n",
       "      <td id=\"T_fcebe_row4_col0\" class=\"data row4 col0\" >6.000000</td>\n",
       "      <td id=\"T_fcebe_row4_col1\" class=\"data row4 col1\" >-73.992062</td>\n",
       "      <td id=\"T_fcebe_row4_col2\" class=\"data row4 col2\" >40.734880</td>\n",
       "      <td id=\"T_fcebe_row4_col3\" class=\"data row4 col3\" >-73.991152</td>\n",
       "      <td id=\"T_fcebe_row4_col4\" class=\"data row4 col4\" >40.734372</td>\n",
       "      <td id=\"T_fcebe_row4_col5\" class=\"data row4 col5\" >1.000000</td>\n",
       "      <td id=\"T_fcebe_row4_col6\" class=\"data row4 col6\" >9.000000</td>\n",
       "      <td id=\"T_fcebe_row4_col7\" class=\"data row4 col7\" >8.000000</td>\n",
       "      <td id=\"T_fcebe_row4_col8\" class=\"data row4 col8\" >1.000000</td>\n",
       "      <td id=\"T_fcebe_row4_col9\" class=\"data row4 col9\" >3.000000</td>\n",
       "      <td id=\"T_fcebe_row4_col10\" class=\"data row4 col10\" >2010.000000</td>\n",
       "      <td id=\"T_fcebe_row4_col11\" class=\"data row4 col11\" >1.223146</td>\n",
       "    </tr>\n",
       "    <tr>\n",
       "      <th id=\"T_fcebe_level0_row5\" class=\"row_heading level0 row5\" >50%</th>\n",
       "      <td id=\"T_fcebe_row5_col0\" class=\"data row5 col0\" >8.500000</td>\n",
       "      <td id=\"T_fcebe_row5_col1\" class=\"data row5 col1\" >-73.981840</td>\n",
       "      <td id=\"T_fcebe_row5_col2\" class=\"data row5 col2\" >40.752678</td>\n",
       "      <td id=\"T_fcebe_row5_col3\" class=\"data row5 col3\" >-73.980082</td>\n",
       "      <td id=\"T_fcebe_row5_col4\" class=\"data row5 col4\" >40.753372</td>\n",
       "      <td id=\"T_fcebe_row5_col5\" class=\"data row5 col5\" >1.000000</td>\n",
       "      <td id=\"T_fcebe_row5_col6\" class=\"data row5 col6\" >14.000000</td>\n",
       "      <td id=\"T_fcebe_row5_col7\" class=\"data row5 col7\" >16.000000</td>\n",
       "      <td id=\"T_fcebe_row5_col8\" class=\"data row5 col8\" >3.000000</td>\n",
       "      <td id=\"T_fcebe_row5_col9\" class=\"data row5 col9\" >6.000000</td>\n",
       "      <td id=\"T_fcebe_row5_col10\" class=\"data row5 col10\" >2012.000000</td>\n",
       "      <td id=\"T_fcebe_row5_col11\" class=\"data row5 col11\" >2.120114</td>\n",
       "    </tr>\n",
       "    <tr>\n",
       "      <th id=\"T_fcebe_level0_row6\" class=\"row_heading level0 row6\" >75%</th>\n",
       "      <td id=\"T_fcebe_row6_col0\" class=\"data row6 col0\" >12.500000</td>\n",
       "      <td id=\"T_fcebe_row6_col1\" class=\"data row6 col1\" >-73.967148</td>\n",
       "      <td id=\"T_fcebe_row6_col2\" class=\"data row6 col2\" >40.767360</td>\n",
       "      <td id=\"T_fcebe_row6_col3\" class=\"data row6 col3\" >-73.963584</td>\n",
       "      <td id=\"T_fcebe_row6_col4\" class=\"data row6 col4\" >40.768167</td>\n",
       "      <td id=\"T_fcebe_row6_col5\" class=\"data row6 col5\" >2.000000</td>\n",
       "      <td id=\"T_fcebe_row6_col6\" class=\"data row6 col6\" >19.000000</td>\n",
       "      <td id=\"T_fcebe_row6_col7\" class=\"data row6 col7\" >23.000000</td>\n",
       "      <td id=\"T_fcebe_row6_col8\" class=\"data row6 col8\" >5.000000</td>\n",
       "      <td id=\"T_fcebe_row6_col9\" class=\"data row6 col9\" >9.000000</td>\n",
       "      <td id=\"T_fcebe_row6_col10\" class=\"data row6 col10\" >2013.000000</td>\n",
       "      <td id=\"T_fcebe_row6_col11\" class=\"data row6 col11\" >3.895570</td>\n",
       "    </tr>\n",
       "    <tr>\n",
       "      <th id=\"T_fcebe_level0_row7\" class=\"row_heading level0 row7\" >max</th>\n",
       "      <td id=\"T_fcebe_row7_col0\" class=\"data row7 col0\" >200.000000</td>\n",
       "      <td id=\"T_fcebe_row7_col1\" class=\"data row7 col1\" >40.783472</td>\n",
       "      <td id=\"T_fcebe_row7_col2\" class=\"data row7 col2\" >401.083332</td>\n",
       "      <td id=\"T_fcebe_row7_col3\" class=\"data row7 col3\" >40.851027</td>\n",
       "      <td id=\"T_fcebe_row7_col4\" class=\"data row7 col4\" >43.415190</td>\n",
       "      <td id=\"T_fcebe_row7_col5\" class=\"data row7 col5\" >6.000000</td>\n",
       "      <td id=\"T_fcebe_row7_col6\" class=\"data row7 col6\" >23.000000</td>\n",
       "      <td id=\"T_fcebe_row7_col7\" class=\"data row7 col7\" >31.000000</td>\n",
       "      <td id=\"T_fcebe_row7_col8\" class=\"data row7 col8\" >6.000000</td>\n",
       "      <td id=\"T_fcebe_row7_col9\" class=\"data row7 col9\" >12.000000</td>\n",
       "      <td id=\"T_fcebe_row7_col10\" class=\"data row7 col10\" >2015.000000</td>\n",
       "      <td id=\"T_fcebe_row7_col11\" class=\"data row7 col11\" >8667.818812</td>\n",
       "    </tr>\n",
       "  </tbody>\n",
       "</table>\n"
      ],
      "text/plain": [
       "<pandas.io.formats.style.Styler at 0x15cccd053a0>"
      ]
     },
     "execution_count": 23,
     "metadata": {},
     "output_type": "execute_result"
    }
   ],
   "source": [
    "df.describe().style.background_gradient(cmap='tab20b')"
   ]
  },
  {
   "cell_type": "markdown",
   "id": "ce56aa92-cffd-4b49-863e-bea9e842ce92",
   "metadata": {},
   "source": [
    "##### here we are seeing taxi fare is minimum value of -5 which is not possible\n",
    "##### using the research done on the data the minimum fare in newyork is 2.5"
   ]
  },
  {
   "cell_type": "code",
   "execution_count": 24,
   "id": "11675c6b-2d34-4765-b821-23c72925daf1",
   "metadata": {},
   "outputs": [],
   "source": [
    "df=df.loc[(df.amount >= 2.5)]"
   ]
  },
  {
   "cell_type": "code",
   "execution_count": 25,
   "id": "37fb188c-aa4a-4381-b7a5-28ab495b03c6",
   "metadata": {},
   "outputs": [
    {
     "data": {
      "text/plain": [
       "(49990, 12)"
      ]
     },
     "execution_count": 25,
     "metadata": {},
     "output_type": "execute_result"
    }
   ],
   "source": [
    "df.shape"
   ]
  },
  {
   "cell_type": "code",
   "execution_count": 26,
   "id": "05430ff1-8492-4719-99de-35ffef40d2b4",
   "metadata": {},
   "outputs": [
    {
     "data": {
      "text/plain": [
       "<Axes: xlabel='amount'>"
      ]
     },
     "execution_count": 26,
     "metadata": {},
     "output_type": "execute_result"
    },
    {
     "data": {
      "image/png": "[encoded data removed]",
      "text/plain": [
       "<Figure size 640x480 with 1 Axes>"
      ]
     },
     "metadata": {},
     "output_type": "display_data"
    }
   ],
   "source": [
    "sns.boxenplot(x='amount',data=df)"
   ]
  },
  {
   "cell_type": "code",
   "execution_count": 27,
   "id": "2c2a4dcf-c19c-41f8-a285-59fee7917a1a",
   "metadata": {},
   "outputs": [],
   "source": [
    "def remove_outlier(col):\n",
    "    sorted(col)\n",
    "    Q1,Q3=col.quantile([0.25,0.75])\n",
    "    IQR=Q3-Q1\n",
    "    lower_range= Q1-(1.5 * IQR)\n",
    "    upper_range= Q3+(1.5 * IQR)\n",
    "    return lower_range, upper_range"
   ]
  },
  {
   "cell_type": "code",
   "execution_count": 28,
   "id": "6b1652cf-b2a7-4e00-a284-90857f4e03d3",
   "metadata": {},
   "outputs": [],
   "source": [
    "lowage,uppage=remove_outlier(df['amount'])\n",
    "df['amount']=np.where(df['amount']>uppage,uppage,df['amount'])\n",
    "df['amount']=np.where(df['amount']<lowage,lowage,df['amount'])"
   ]
  },
  {
   "cell_type": "code",
   "execution_count": 29,
   "id": "e45bf64a-10d5-4a3f-8644-f3f33df635c8",
   "metadata": {},
   "outputs": [
    {
     "data": {
      "text/plain": [
       "<Axes: xlabel='amount'>"
      ]
     },
     "execution_count": 29,
     "metadata": {},
     "output_type": "execute_result"
    },
    {
     "data": {
      "image/png": "[encoded data removed]",
      "text/plain": [
       "<Figure size 640x480 with 1 Axes>"
      ]
     },
     "metadata": {},
     "output_type": "display_data"
    }
   ],
   "source": [
    "sns.boxplot(x='amount',data=df,fill=False)"
   ]
  },
  {
   "cell_type": "code",
   "execution_count": 30,
   "id": "01f61719-c85b-496e-a9cf-f6c9859d121e",
   "metadata": {},
   "outputs": [
    {
     "data": {
      "text/plain": [
       "<Axes: xlabel='travel_distance_klm'>"
      ]
     },
     "execution_count": 30,
     "metadata": {},
     "output_type": "execute_result"
    },
    {
     "data": {
      "image/png": "[encoded data removed]",
      "text/plain": [
       "<Figure size 640x480 with 1 Axes>"
      ]
     },
     "metadata": {},
     "output_type": "display_data"
    }
   ],
   "source": [
    "sns.boxplot(x='travel_distance_klm',data=df,fill=False,color=\"#137\")"
   ]
  },
  {
   "cell_type": "code",
   "execution_count": 31,
   "id": "b3b4cb04-e6c7-4fb3-9ebf-51b6fc6100be",
   "metadata": {},
   "outputs": [],
   "source": [
    "lowage,uppage=remove_outlier(df['travel_distance_klm'])\n",
    "df['travel_distance_klm']=np.where(df['travel_distance_klm']>uppage,uppage,df['travel_distance_klm'])\n",
    "df['travel_distance_klm']=np.where(df['travel_distance_klm']<lowage,lowage,df['travel_distance_klm'])"
   ]
  },
  {
   "cell_type": "code",
   "execution_count": 32,
   "id": "ed57117b-eb25-4eb2-948b-f76d4e4212c6",
   "metadata": {},
   "outputs": [
    {
     "data": {
      "text/plain": [
       "<Axes: xlabel='travel_distance_klm'>"
      ]
     },
     "execution_count": 32,
     "metadata": {},
     "output_type": "execute_result"
    },
    {
     "data": {
      "image/png": "[encoded data removed]",
      "text/plain": [
       "<Figure size 640x480 with 1 Axes>"
      ]
     },
     "metadata": {},
     "output_type": "display_data"
    }
   ],
   "source": [
    "sns.boxplot(x='travel_distance_klm',data=df,fill=False,color=\"#137\")"
   ]
  },
  {
   "cell_type": "code",
   "execution_count": 33,
   "id": "4c3b20da-19cb-47a4-9b80-3d5b3aa91f32",
   "metadata": {},
   "outputs": [
    {
     "data": {
      "image/png": "[encoded data removed]",
      "text/plain": [
       "<Figure size 2000x500 with 1 Axes>"
      ]
     },
     "metadata": {},
     "output_type": "display_data"
    }
   ],
   "source": [
    "plt.figure(figsize=(20,5))\n",
    "plt.title ('Peek Hours during week days')\n",
    "sns.set(style=\"whitegrid\")  \n",
    "custom_palette = sns.color_palette(\"Set1\", n_colors=len(set(df)))\n",
    "sns.countplot(x='hour',data=df.loc[(df['dayofweek']>=0) & (df['dayofweek']<=4)],palette=custom_palette)\n",
    "plt.show()"
   ]
  },
  {
   "cell_type": "code",
   "execution_count": 34,
   "id": "d92b4e40-3189-49b1-95d5-39610c1fe417",
   "metadata": {},
   "outputs": [
    {
     "data": {
      "image/png": "[encoded data removed]",
      "text/plain": [
       "<Figure size 2000x500 with 1 Axes>"
      ]
     },
     "metadata": {},
     "output_type": "display_data"
    }
   ],
   "source": [
    "plt.figure(figsize=(20,5))\n",
    "plt.title ('Peek Hours during week ends')\n",
    "sns.countplot(x='hour',data=df.loc[(df['dayofweek']>=5) & (df['dayofweek']<=6)],palette=custom_palette)\n",
    "plt.show()"
   ]
  },
  {
   "cell_type": "code",
   "execution_count": 35,
   "id": "c0eca34b-f482-47cb-88fd-ae9d63b58579",
   "metadata": {},
   "outputs": [],
   "source": [
    "week_days = df.loc[(df.dayofweek >= 0) & (df.dayofweek <= 4)]\n",
    "week_ends = df.loc[(df.dayofweek >= 5) & (df.dayofweek <= 6)]\n",
    "\n",
    "week_days_fare = week_days.groupby(['hour']).amount.mean().to_frame().reset_index()\n",
    "week_ends_fare = week_ends.groupby(['hour']).amount.mean().to_frame().reset_index()"
   ]
  },
  {
   "cell_type": "code",
   "execution_count": 36,
   "id": "477c1133-9324-4dfd-bb88-358b67fdbd7f",
   "metadata": {},
   "outputs": [
    {
     "data": {
      "image/png": "[encoded data removed]",
      "text/plain": [
       "<Figure size 640x480 with 1 Axes>"
      ]
     },
     "metadata": {},
     "output_type": "display_data"
    }
   ],
   "source": [
    "sns.barplot(x='hour',y='amount',palette=custom_palette,data=week_days_fare)\n",
    "plt.title('Average amount paid according to hours on week days')\n",
    "plt.show()"
   ]
  },
  {
   "cell_type": "code",
   "execution_count": 37,
   "id": "123c1ff7-1eac-4fb2-b0fc-1b312a228bff",
   "metadata": {},
   "outputs": [
    {
     "data": {
      "image/png": "[encoded data removed]",
      "text/plain": [
       "<Figure size 640x480 with 1 Axes>"
      ]
     },
     "metadata": {},
     "output_type": "display_data"
    }
   ],
   "source": [
    "sns.barplot(x='hour',y='amount',palette=custom_palette,data=week_ends_fare)\n",
    "plt.title('Average amount paid according to hours on week Ends')\n",
    "plt.show()"
   ]
  },
  {
   "cell_type": "code",
   "execution_count": 38,
   "id": "28e6a79a-3084-4cdb-ab0e-c4640eb42114",
   "metadata": {},
   "outputs": [
    {
     "data": {
      "image/png": "[encoded data removed]",
      "text/plain": [
       "<Figure size 2000x600 with 1 Axes>"
      ]
     },
     "metadata": {},
     "output_type": "display_data"
    }
   ],
   "source": [
    "wwc = pd.merge(week_days_fare, week_ends_fare, on='hour',suffixes=['_Weekday','_Weekends'])\n",
    "x=np.array(wwc.hour)\n",
    "y=np.array(wwc.amount_Weekday)\n",
    "z=np.array(wwc.amount_Weekends)\n",
    "\n",
    "plt.figure(figsize=(20,6))\n",
    "plt.title('Mean fare amount of each hour- Weekdays Vs Weekends')\n",
    "plt.xlabel('Hours')\n",
    "plt.ylabel('Mean Fare')\n",
    "\n",
    "ax=plt.subplot(1,1,1)\n",
    "ax.bar(x-0.3 , y , width=0.3,color='gray', align='center', label = 'Week days')\n",
    "ax.bar(x , z , width=0.3,color='red', align='center', label = 'Week ends')\n",
    "plt.xticks(range(0,24))\n",
    "plt.legend()\n",
    "plt.show()"
   ]
  },
  {
   "cell_type": "code",
   "execution_count": 39,
   "id": "93ced206-5990-4b7d-b37f-4bace84a9cfa",
   "metadata": {},
   "outputs": [
    {
     "data": {
      "image/png": "[encoded data removed]",
      "text/plain": [
       "<Figure size 2000x1000 with 1 Axes>"
      ]
     },
     "metadata": {},
     "output_type": "display_data"
    }
   ],
   "source": [
    "plt.figure(figsize=(20,10))\n",
    "sns.set_style=(\"darkgrid\")\n",
    "plt.title(\"Distribution of the fare amount\")\n",
    "plt.xlabel(\"Fare Amount\")\n",
    "plt.ylabel(\"Frequency\")\n",
    "plt.xticks(range(0,200,5))\n",
    "\n",
    "snsplot = sns.kdeplot(df.amount, shade=True)"
   ]
  },
  {
   "cell_type": "code",
   "execution_count": 40,
   "id": "89198e9f-8e25-48df-8886-5271b4e99e7f",
   "metadata": {},
   "outputs": [
    {
     "data": {
      "image/png": "[encoded data removed]",
      "text/plain": [
       "<Figure size 1000x600 with 1 Axes>"
      ]
     },
     "metadata": {},
     "output_type": "display_data"
    }
   ],
   "source": [
    "plt.figure(figsize=(10,6))\n",
    "sns.set_style=('darkgrid')\n",
    "plt.title('Distribution of average distance travel')\n",
    "plt.xlabel('Mean distance travel')\n",
    "plt.ylabel('Frequency')\n",
    "\n",
    "sns.plot = sns.kdeplot(df[df.travel_distance_klm<130].travel_distance_klm, shade=True)\n"
   ]
  },
  {
   "cell_type": "code",
   "execution_count": 41,
   "id": "f09723a7-92b1-4915-bb2f-9f9f0975870a",
   "metadata": {},
   "outputs": [],
   "source": [
    "from sklearn.model_selection import train_test_split"
   ]
  },
  {
   "cell_type": "code",
   "execution_count": 42,
   "id": "b5ba1cc9-4af9-46c7-92f4-8a98b76bc44a",
   "metadata": {},
   "outputs": [],
   "source": [
    "from sklearn.linear_model import LinearRegression\n",
    "from sklearn.tree import DecisionTreeRegressor\n",
    "from sklearn.ensemble import RandomForestRegressor\n",
    "from sklearn.neighbors import KNeighborsRegressor\n",
    "from sklearn.ensemble import GradientBoostingRegressor\n",
    "from sklearn.ensemble import BaggingRegressor\n",
    "from sklearn.ensemble import AdaBoostRegressor"
   ]
  },
  {
   "cell_type": "code",
   "execution_count": 43,
   "id": "8d457647-5900-4b60-94b7-691997b3e2eb",
   "metadata": {},
   "outputs": [],
   "source": [
    "x=df.drop(['amount'],axis=1)\n",
    "y=pd.DataFrame(df['amount'])"
   ]
  },
  {
   "cell_type": "code",
   "execution_count": 112,
   "id": "8554f81a-c7d5-4920-8971-48fca6c59483",
   "metadata": {},
   "outputs": [],
   "source": [
    "x_train,x_test,y_train,y_test=train_test_split(x,y,test_size=0.2,random_state=3)"
   ]
  },
  {
   "cell_type": "code",
   "execution_count": 113,
   "id": "df2cedb9-3ed1-429a-a757-3407f5edbfae",
   "metadata": {},
   "outputs": [],
   "source": [
    "from sklearn.metrics import mean_squared_error"
   ]
  },
  {
   "cell_type": "markdown",
   "id": "4e93be4e-59db-407d-9f11-5b5519ab90fe",
   "metadata": {},
   "source": [
    "### RandomForest Regression"
   ]
  },
  {
   "cell_type": "code",
   "execution_count": 114,
   "id": "71d0c246-170b-4b64-9d07-01b1b7580f31",
   "metadata": {},
   "outputs": [],
   "source": [
    "rfr=RandomForestRegressor(n_estimators=15,max_features=0.3, min_samples_split=40)"
   ]
  },
  {
   "cell_type": "code",
   "execution_count": 115,
   "id": "d77ea188-bf4c-4e2a-a32c-bebce1f376c0",
   "metadata": {},
   "outputs": [
    {
     "data": {
      "text/html": [
       "<style>#sk-container-id-13 {color: black;}#sk-container-id-13 pre{padding: 0;}#sk-container-id-13 div.sk-toggleable {background-color: white;}#sk-container-id-13 label.sk-toggleable__label {cursor: pointer;display: block;width: 100%;margin-bottom: 0;padding: 0.3em;box-sizing: border-box;text-align: center;}#sk-container-id-13 label.sk-toggleable__label-arrow:before {content: \"▸\";float: left;margin-right: 0.25em;color: #696969;}#sk-container-id-13 label.sk-toggleable__label-arrow:hover:before {color: black;}#sk-container-id-13 div.sk-estimator:hover label.sk-toggleable__label-arrow:before {color: black;}#sk-container-id-13 div.sk-toggleable__content {max-height: 0;max-width: 0;overflow: hidden;text-align: left;background-color: #f0f8ff;}#sk-container-id-13 div.sk-toggleable__content pre {margin: 0.2em;color: black;border-radius: 0.25em;background-color: #f0f8ff;}#sk-container-id-13 input.sk-toggleable__control:checked~div.sk-toggleable__content {max-height: 200px;max-width: 100%;overflow: auto;}#sk-container-id-13 input.sk-toggleable__control:checked~label.sk-toggleable__label-arrow:before {content: \"▾\";}#sk-container-id-13 div.sk-estimator input.sk-toggleable__control:checked~label.sk-toggleable__label {background-color: #d4ebff;}#sk-container-id-13 div.sk-label input.sk-toggleable__control:checked~label.sk-toggleable__label {background-color: #d4ebff;}#sk-container-id-13 input.sk-hidden--visually {border: 0;clip: rect(1px 1px 1px 1px);clip: rect(1px, 1px, 1px, 1px);height: 1px;margin: -1px;overflow: hidden;padding: 0;position: absolute;width: 1px;}#sk-container-id-13 div.sk-estimator {font-family: monospace;background-color: #f0f8ff;border: 1px dotted black;border-radius: 0.25em;box-sizing: border-box;margin-bottom: 0.5em;}#sk-container-id-13 div.sk-estimator:hover {background-color: #d4ebff;}#sk-container-id-13 div.sk-parallel-item::after {content: \"\";width: 100%;border-bottom: 1px solid gray;flex-grow: 1;}#sk-container-id-13 div.sk-label:hover label.sk-toggleable__label {background-color: #d4ebff;}#sk-container-id-13 div.sk-serial::before {content: \"\";position: absolute;border-left: 1px solid gray;box-sizing: border-box;top: 0;bottom: 0;left: 50%;z-index: 0;}#sk-container-id-13 div.sk-serial {display: flex;flex-direction: column;align-items: center;background-color: white;padding-right: 0.2em;padding-left: 0.2em;position: relative;}#sk-container-id-13 div.sk-item {position: relative;z-index: 1;}#sk-container-id-13 div.sk-parallel {display: flex;align-items: stretch;justify-content: center;background-color: white;position: relative;}#sk-container-id-13 div.sk-item::before, #sk-container-id-13 div.sk-parallel-item::before {content: \"\";position: absolute;border-left: 1px solid gray;box-sizing: border-box;top: 0;bottom: 0;left: 50%;z-index: -1;}#sk-container-id-13 div.sk-parallel-item {display: flex;flex-direction: column;z-index: 1;position: relative;background-color: white;}#sk-container-id-13 div.sk-parallel-item:first-child::after {align-self: flex-end;width: 50%;}#sk-container-id-13 div.sk-parallel-item:last-child::after {align-self: flex-start;width: 50%;}#sk-container-id-13 div.sk-parallel-item:only-child::after {width: 0;}#sk-container-id-13 div.sk-dashed-wrapped {border: 1px dashed gray;margin: 0 0.4em 0.5em 0.4em;box-sizing: border-box;padding-bottom: 0.4em;background-color: white;}#sk-container-id-13 div.sk-label label {font-family: monospace;font-weight: bold;display: inline-block;line-height: 1.2em;}#sk-container-id-13 div.sk-label-container {text-align: center;}#sk-container-id-13 div.sk-container {/* jupyter's `normalize.less` sets `[hidden] { display: none; }` but bootstrap.min.css set `[hidden] { display: none !important; }` so we also need the `!important` here to be able to override the default hidden behavior on the sphinx rendered scikit-learn.org. See: https://github.com/scikit-learn/scikit-learn/issues/21755 */display: inline-block !important;position: relative;}#sk-container-id-13 div.sk-text-repr-fallback {display: none;}</style><div id=\"sk-container-id-13\" class=\"sk-top-container\"><div class=\"sk-text-repr-fallback\"><pre>RandomForestRegressor(max_features=0.3, min_samples_split=40, n_estimators=15)</pre><b>In a Jupyter environment, please rerun this cell to show the HTML representation or trust the notebook. <br />On GitHub, the HTML representation is unable to render, please try loading this page with nbviewer.org.</b></div><div class=\"sk-container\" hidden><div class=\"sk-item\"><div class=\"sk-estimator sk-toggleable\"><input class=\"sk-toggleable__control sk-hidden--visually\" id=\"sk-estimator-id-13\" type=\"checkbox\" checked><label for=\"sk-estimator-id-13\" class=\"sk-toggleable__label sk-toggleable__label-arrow\">RandomForestRegressor</label><div class=\"sk-toggleable__content\"><pre>RandomForestRegressor(max_features=0.3, min_samples_split=40, n_estimators=15)</pre></div></div></div></div></div>"
      ],
      "text/plain": [
       "RandomForestRegressor(max_features=0.3, min_samples_split=40, n_estimators=15)"
      ]
     },
     "execution_count": 115,
     "metadata": {},
     "output_type": "execute_result"
    }
   ],
   "source": [
    "rfr.fit(x_train,y_train)"
   ]
  },
  {
   "cell_type": "code",
   "execution_count": 116,
   "id": "cffe04b1-4723-49fb-bf15-52215c3e44d2",
   "metadata": {},
   "outputs": [
    {
     "data": {
      "text/plain": [
       "0.8565258413305752"
      ]
     },
     "execution_count": 116,
     "metadata": {},
     "output_type": "execute_result"
    }
   ],
   "source": [
    "rfr.score(x_train,y_train)"
   ]
  },
  {
   "cell_type": "code",
   "execution_count": 117,
   "id": "c6187aaa-be0c-46e2-8a72-4c20bb873687",
   "metadata": {},
   "outputs": [
    {
     "data": {
      "text/plain": [
       "0.8106038960477677"
      ]
     },
     "execution_count": 117,
     "metadata": {},
     "output_type": "execute_result"
    }
   ],
   "source": [
    "rfr.score(x_test,y_test)"
   ]
  },
  {
   "cell_type": "markdown",
   "id": "d333fe6d-1b9e-4dcd-a824-c1cbcfeb5d7e",
   "metadata": {},
   "source": [
    "### Linear Regressor"
   ]
  },
  {
   "cell_type": "code",
   "execution_count": 118,
   "id": "a079bb28-36e3-4365-af6c-7eeb1892ebbe",
   "metadata": {},
   "outputs": [],
   "source": [
    "lr=LinearRegression()"
   ]
  },
  {
   "cell_type": "code",
   "execution_count": 119,
   "id": "64c0a15c-6d50-469c-b843-b03aea771329",
   "metadata": {},
   "outputs": [
    {
     "data": {
      "text/html": [
       "<style>#sk-container-id-14 {color: black;}#sk-container-id-14 pre{padding: 0;}#sk-container-id-14 div.sk-toggleable {background-color: white;}#sk-container-id-14 label.sk-toggleable__label {cursor: pointer;display: block;width: 100%;margin-bottom: 0;padding: 0.3em;box-sizing: border-box;text-align: center;}#sk-container-id-14 label.sk-toggleable__label-arrow:before {content: \"▸\";float: left;margin-right: 0.25em;color: #696969;}#sk-container-id-14 label.sk-toggleable__label-arrow:hover:before {color: black;}#sk-container-id-14 div.sk-estimator:hover label.sk-toggleable__label-arrow:before {color: black;}#sk-container-id-14 div.sk-toggleable__content {max-height: 0;max-width: 0;overflow: hidden;text-align: left;background-color: #f0f8ff;}#sk-container-id-14 div.sk-toggleable__content pre {margin: 0.2em;color: black;border-radius: 0.25em;background-color: #f0f8ff;}#sk-container-id-14 input.sk-toggleable__control:checked~div.sk-toggleable__content {max-height: 200px;max-width: 100%;overflow: auto;}#sk-container-id-14 input.sk-toggleable__control:checked~label.sk-toggleable__label-arrow:before {content: \"▾\";}#sk-container-id-14 div.sk-estimator input.sk-toggleable__control:checked~label.sk-toggleable__label {background-color: #d4ebff;}#sk-container-id-14 div.sk-label input.sk-toggleable__control:checked~label.sk-toggleable__label {background-color: #d4ebff;}#sk-container-id-14 input.sk-hidden--visually {border: 0;clip: rect(1px 1px 1px 1px);clip: rect(1px, 1px, 1px, 1px);height: 1px;margin: -1px;overflow: hidden;padding: 0;position: absolute;width: 1px;}#sk-container-id-14 div.sk-estimator {font-family: monospace;background-color: #f0f8ff;border: 1px dotted black;border-radius: 0.25em;box-sizing: border-box;margin-bottom: 0.5em;}#sk-container-id-14 div.sk-estimator:hover {background-color: #d4ebff;}#sk-container-id-14 div.sk-parallel-item::after {content: \"\";width: 100%;border-bottom: 1px solid gray;flex-grow: 1;}#sk-container-id-14 div.sk-label:hover label.sk-toggleable__label {background-color: #d4ebff;}#sk-container-id-14 div.sk-serial::before {content: \"\";position: absolute;border-left: 1px solid gray;box-sizing: border-box;top: 0;bottom: 0;left: 50%;z-index: 0;}#sk-container-id-14 div.sk-serial {display: flex;flex-direction: column;align-items: center;background-color: white;padding-right: 0.2em;padding-left: 0.2em;position: relative;}#sk-container-id-14 div.sk-item {position: relative;z-index: 1;}#sk-container-id-14 div.sk-parallel {display: flex;align-items: stretch;justify-content: center;background-color: white;position: relative;}#sk-container-id-14 div.sk-item::before, #sk-container-id-14 div.sk-parallel-item::before {content: \"\";position: absolute;border-left: 1px solid gray;box-sizing: border-box;top: 0;bottom: 0;left: 50%;z-index: -1;}#sk-container-id-14 div.sk-parallel-item {display: flex;flex-direction: column;z-index: 1;position: relative;background-color: white;}#sk-container-id-14 div.sk-parallel-item:first-child::after {align-self: flex-end;width: 50%;}#sk-container-id-14 div.sk-parallel-item:last-child::after {align-self: flex-start;width: 50%;}#sk-container-id-14 div.sk-parallel-item:only-child::after {width: 0;}#sk-container-id-14 div.sk-dashed-wrapped {border: 1px dashed gray;margin: 0 0.4em 0.5em 0.4em;box-sizing: border-box;padding-bottom: 0.4em;background-color: white;}#sk-container-id-14 div.sk-label label {font-family: monospace;font-weight: bold;display: inline-block;line-height: 1.2em;}#sk-container-id-14 div.sk-label-container {text-align: center;}#sk-container-id-14 div.sk-container {/* jupyter's `normalize.less` sets `[hidden] { display: none; }` but bootstrap.min.css set `[hidden] { display: none !important; }` so we also need the `!important` here to be able to override the default hidden behavior on the sphinx rendered scikit-learn.org. See: https://github.com/scikit-learn/scikit-learn/issues/21755 */display: inline-block !important;position: relative;}#sk-container-id-14 div.sk-text-repr-fallback {display: none;}</style><div id=\"sk-container-id-14\" class=\"sk-top-container\"><div class=\"sk-text-repr-fallback\"><pre>LinearRegression()</pre><b>In a Jupyter environment, please rerun this cell to show the HTML representation or trust the notebook. <br />On GitHub, the HTML representation is unable to render, please try loading this page with nbviewer.org.</b></div><div class=\"sk-container\" hidden><div class=\"sk-item\"><div class=\"sk-estimator sk-toggleable\"><input class=\"sk-toggleable__control sk-hidden--visually\" id=\"sk-estimator-id-14\" type=\"checkbox\" checked><label for=\"sk-estimator-id-14\" class=\"sk-toggleable__label sk-toggleable__label-arrow\">LinearRegression</label><div class=\"sk-toggleable__content\"><pre>LinearRegression()</pre></div></div></div></div></div>"
      ],
      "text/plain": [
       "LinearRegression()"
      ]
     },
     "execution_count": 119,
     "metadata": {},
     "output_type": "execute_result"
    }
   ],
   "source": [
    "lr.fit(x_train,y_train)"
   ]
  },
  {
   "cell_type": "code",
   "execution_count": 120,
   "id": "8c681b82-2323-4b2d-93ce-297c71a2d3a6",
   "metadata": {},
   "outputs": [
    {
     "data": {
      "text/plain": [
       "0.7444693386358987"
      ]
     },
     "execution_count": 120,
     "metadata": {},
     "output_type": "execute_result"
    }
   ],
   "source": [
    "lr.score(x_train,y_train)"
   ]
  },
  {
   "cell_type": "code",
   "execution_count": 121,
   "id": "83aeff97-6b4c-4827-aade-cd98e833cd09",
   "metadata": {},
   "outputs": [
    {
     "data": {
      "text/plain": [
       "0.7470248350286319"
      ]
     },
     "execution_count": 121,
     "metadata": {},
     "output_type": "execute_result"
    }
   ],
   "source": [
    "lr.score(x_test,y_test)"
   ]
  },
  {
   "cell_type": "markdown",
   "id": "92b5f37e-0245-4463-b404-038a67484239",
   "metadata": {},
   "source": [
    "### DecisionTree Regressor"
   ]
  },
  {
   "cell_type": "code",
   "execution_count": 203,
   "id": "019d1b0d-367d-474d-9141-292bbac4be7a",
   "metadata": {},
   "outputs": [],
   "source": [
    "dtr=DecisionTreeRegressor(criterion='friedman_mse',min_samples_split=50,ccp_alpha=0.003)"
   ]
  },
  {
   "cell_type": "code",
   "execution_count": 204,
   "id": "1621c9ec-07e1-4384-b759-367ff8373193",
   "metadata": {},
   "outputs": [
    {
     "data": {
      "text/html": [
       "<style>#sk-container-id-34 {color: black;}#sk-container-id-34 pre{padding: 0;}#sk-container-id-34 div.sk-toggleable {background-color: white;}#sk-container-id-34 label.sk-toggleable__label {cursor: pointer;display: block;width: 100%;margin-bottom: 0;padding: 0.3em;box-sizing: border-box;text-align: center;}#sk-container-id-34 label.sk-toggleable__label-arrow:before {content: \"▸\";float: left;margin-right: 0.25em;color: #696969;}#sk-container-id-34 label.sk-toggleable__label-arrow:hover:before {color: black;}#sk-container-id-34 div.sk-estimator:hover label.sk-toggleable__label-arrow:before {color: black;}#sk-container-id-34 div.sk-toggleable__content {max-height: 0;max-width: 0;overflow: hidden;text-align: left;background-color: #f0f8ff;}#sk-container-id-34 div.sk-toggleable__content pre {margin: 0.2em;color: black;border-radius: 0.25em;background-color: #f0f8ff;}#sk-container-id-34 input.sk-toggleable__control:checked~div.sk-toggleable__content {max-height: 200px;max-width: 100%;overflow: auto;}#sk-container-id-34 input.sk-toggleable__control:checked~label.sk-toggleable__label-arrow:before {content: \"▾\";}#sk-container-id-34 div.sk-estimator input.sk-toggleable__control:checked~label.sk-toggleable__label {background-color: #d4ebff;}#sk-container-id-34 div.sk-label input.sk-toggleable__control:checked~label.sk-toggleable__label {background-color: #d4ebff;}#sk-container-id-34 input.sk-hidden--visually {border: 0;clip: rect(1px 1px 1px 1px);clip: rect(1px, 1px, 1px, 1px);height: 1px;margin: -1px;overflow: hidden;padding: 0;position: absolute;width: 1px;}#sk-container-id-34 div.sk-estimator {font-family: monospace;background-color: #f0f8ff;border: 1px dotted black;border-radius: 0.25em;box-sizing: border-box;margin-bottom: 0.5em;}#sk-container-id-34 div.sk-estimator:hover {background-color: #d4ebff;}#sk-container-id-34 div.sk-parallel-item::after {content: \"\";width: 100%;border-bottom: 1px solid gray;flex-grow: 1;}#sk-container-id-34 div.sk-label:hover label.sk-toggleable__label {background-color: #d4ebff;}#sk-container-id-34 div.sk-serial::before {content: \"\";position: absolute;border-left: 1px solid gray;box-sizing: border-box;top: 0;bottom: 0;left: 50%;z-index: 0;}#sk-container-id-34 div.sk-serial {display: flex;flex-direction: column;align-items: center;background-color: white;padding-right: 0.2em;padding-left: 0.2em;position: relative;}#sk-container-id-34 div.sk-item {position: relative;z-index: 1;}#sk-container-id-34 div.sk-parallel {display: flex;align-items: stretch;justify-content: center;background-color: white;position: relative;}#sk-container-id-34 div.sk-item::before, #sk-container-id-34 div.sk-parallel-item::before {content: \"\";position: absolute;border-left: 1px solid gray;box-sizing: border-box;top: 0;bottom: 0;left: 50%;z-index: -1;}#sk-container-id-34 div.sk-parallel-item {display: flex;flex-direction: column;z-index: 1;position: relative;background-color: white;}#sk-container-id-34 div.sk-parallel-item:first-child::after {align-self: flex-end;width: 50%;}#sk-container-id-34 div.sk-parallel-item:last-child::after {align-self: flex-start;width: 50%;}#sk-container-id-34 div.sk-parallel-item:only-child::after {width: 0;}#sk-container-id-34 div.sk-dashed-wrapped {border: 1px dashed gray;margin: 0 0.4em 0.5em 0.4em;box-sizing: border-box;padding-bottom: 0.4em;background-color: white;}#sk-container-id-34 div.sk-label label {font-family: monospace;font-weight: bold;display: inline-block;line-height: 1.2em;}#sk-container-id-34 div.sk-label-container {text-align: center;}#sk-container-id-34 div.sk-container {/* jupyter's `normalize.less` sets `[hidden] { display: none; }` but bootstrap.min.css set `[hidden] { display: none !important; }` so we also need the `!important` here to be able to override the default hidden behavior on the sphinx rendered scikit-learn.org. See: https://github.com/scikit-learn/scikit-learn/issues/21755 */display: inline-block !important;position: relative;}#sk-container-id-34 div.sk-text-repr-fallback {display: none;}</style><div id=\"sk-container-id-34\" class=\"sk-top-container\"><div class=\"sk-text-repr-fallback\"><pre>DecisionTreeRegressor(ccp_alpha=0.003, criterion=&#x27;friedman_mse&#x27;,\n",
       "                      min_samples_split=50)</pre><b>In a Jupyter environment, please rerun this cell to show the HTML representation or trust the notebook. <br />On GitHub, the HTML representation is unable to render, please try loading this page with nbviewer.org.</b></div><div class=\"sk-container\" hidden><div class=\"sk-item\"><div class=\"sk-estimator sk-toggleable\"><input class=\"sk-toggleable__control sk-hidden--visually\" id=\"sk-estimator-id-34\" type=\"checkbox\" checked><label for=\"sk-estimator-id-34\" class=\"sk-toggleable__label sk-toggleable__label-arrow\">DecisionTreeRegressor</label><div class=\"sk-toggleable__content\"><pre>DecisionTreeRegressor(ccp_alpha=0.003, criterion=&#x27;friedman_mse&#x27;,\n",
       "                      min_samples_split=50)</pre></div></div></div></div></div>"
      ],
      "text/plain": [
       "DecisionTreeRegressor(ccp_alpha=0.003, criterion='friedman_mse',\n",
       "                      min_samples_split=50)"
      ]
     },
     "execution_count": 204,
     "metadata": {},
     "output_type": "execute_result"
    }
   ],
   "source": [
    "dtr.fit(x_train,y_train)"
   ]
  },
  {
   "cell_type": "code",
   "execution_count": 205,
   "id": "1b7b915d-4511-44cb-b56e-0fb66120284c",
   "metadata": {},
   "outputs": [
    {
     "data": {
      "text/plain": [
       "0.8120170315893656"
      ]
     },
     "execution_count": 205,
     "metadata": {},
     "output_type": "execute_result"
    }
   ],
   "source": [
    "dtr.score(x_train,y_train)"
   ]
  },
  {
   "cell_type": "code",
   "execution_count": 206,
   "id": "38cc9f50-24ce-409c-9303-157be09390e7",
   "metadata": {},
   "outputs": [
    {
     "data": {
      "text/plain": [
       "0.7872623630162245"
      ]
     },
     "execution_count": 206,
     "metadata": {},
     "output_type": "execute_result"
    }
   ],
   "source": [
    "dtr.score(x_test,y_test)"
   ]
  },
  {
   "cell_type": "markdown",
   "id": "2d1ba335-82d0-466c-91b6-b3554a74ea62",
   "metadata": {},
   "source": [
    "### KNeighborsRegressor"
   ]
  },
  {
   "cell_type": "code",
   "execution_count": 222,
   "id": "0923fac0-2699-49c9-b65e-11cc6a860edd",
   "metadata": {},
   "outputs": [],
   "source": [
    "knr=KNeighborsRegressor(n_neighbors=10)"
   ]
  },
  {
   "cell_type": "code",
   "execution_count": 223,
   "id": "a58c6062-2340-48fb-a3d9-0d022c264993",
   "metadata": {},
   "outputs": [
    {
     "data": {
      "text/html": [
       "<style>#sk-container-id-38 {color: black;}#sk-container-id-38 pre{padding: 0;}#sk-container-id-38 div.sk-toggleable {background-color: white;}#sk-container-id-38 label.sk-toggleable__label {cursor: pointer;display: block;width: 100%;margin-bottom: 0;padding: 0.3em;box-sizing: border-box;text-align: center;}#sk-container-id-38 label.sk-toggleable__label-arrow:before {content: \"▸\";float: left;margin-right: 0.25em;color: #696969;}#sk-container-id-38 label.sk-toggleable__label-arrow:hover:before {color: black;}#sk-container-id-38 div.sk-estimator:hover label.sk-toggleable__label-arrow:before {color: black;}#sk-container-id-38 div.sk-toggleable__content {max-height: 0;max-width: 0;overflow: hidden;text-align: left;background-color: #f0f8ff;}#sk-container-id-38 div.sk-toggleable__content pre {margin: 0.2em;color: black;border-radius: 0.25em;background-color: #f0f8ff;}#sk-container-id-38 input.sk-toggleable__control:checked~div.sk-toggleable__content {max-height: 200px;max-width: 100%;overflow: auto;}#sk-container-id-38 input.sk-toggleable__control:checked~label.sk-toggleable__label-arrow:before {content: \"▾\";}#sk-container-id-38 div.sk-estimator input.sk-toggleable__control:checked~label.sk-toggleable__label {background-color: #d4ebff;}#sk-container-id-38 div.sk-label input.sk-toggleable__control:checked~label.sk-toggleable__label {background-color: #d4ebff;}#sk-container-id-38 input.sk-hidden--visually {border: 0;clip: rect(1px 1px 1px 1px);clip: rect(1px, 1px, 1px, 1px);height: 1px;margin: -1px;overflow: hidden;padding: 0;position: absolute;width: 1px;}#sk-container-id-38 div.sk-estimator {font-family: monospace;background-color: #f0f8ff;border: 1px dotted black;border-radius: 0.25em;box-sizing: border-box;margin-bottom: 0.5em;}#sk-container-id-38 div.sk-estimator:hover {background-color: #d4ebff;}#sk-container-id-38 div.sk-parallel-item::after {content: \"\";width: 100%;border-bottom: 1px solid gray;flex-grow: 1;}#sk-container-id-38 div.sk-label:hover label.sk-toggleable__label {background-color: #d4ebff;}#sk-container-id-38 div.sk-serial::before {content: \"\";position: absolute;border-left: 1px solid gray;box-sizing: border-box;top: 0;bottom: 0;left: 50%;z-index: 0;}#sk-container-id-38 div.sk-serial {display: flex;flex-direction: column;align-items: center;background-color: white;padding-right: 0.2em;padding-left: 0.2em;position: relative;}#sk-container-id-38 div.sk-item {position: relative;z-index: 1;}#sk-container-id-38 div.sk-parallel {display: flex;align-items: stretch;justify-content: center;background-color: white;position: relative;}#sk-container-id-38 div.sk-item::before, #sk-container-id-38 div.sk-parallel-item::before {content: \"\";position: absolute;border-left: 1px solid gray;box-sizing: border-box;top: 0;bottom: 0;left: 50%;z-index: -1;}#sk-container-id-38 div.sk-parallel-item {display: flex;flex-direction: column;z-index: 1;position: relative;background-color: white;}#sk-container-id-38 div.sk-parallel-item:first-child::after {align-self: flex-end;width: 50%;}#sk-container-id-38 div.sk-parallel-item:last-child::after {align-self: flex-start;width: 50%;}#sk-container-id-38 div.sk-parallel-item:only-child::after {width: 0;}#sk-container-id-38 div.sk-dashed-wrapped {border: 1px dashed gray;margin: 0 0.4em 0.5em 0.4em;box-sizing: border-box;padding-bottom: 0.4em;background-color: white;}#sk-container-id-38 div.sk-label label {font-family: monospace;font-weight: bold;display: inline-block;line-height: 1.2em;}#sk-container-id-38 div.sk-label-container {text-align: center;}#sk-container-id-38 div.sk-container {/* jupyter's `normalize.less` sets `[hidden] { display: none; }` but bootstrap.min.css set `[hidden] { display: none !important; }` so we also need the `!important` here to be able to override the default hidden behavior on the sphinx rendered scikit-learn.org. See: https://github.com/scikit-learn/scikit-learn/issues/21755 */display: inline-block !important;position: relative;}#sk-container-id-38 div.sk-text-repr-fallback {display: none;}</style><div id=\"sk-container-id-38\" class=\"sk-top-container\"><div class=\"sk-text-repr-fallback\"><pre>KNeighborsRegressor(n_neighbors=10)</pre><b>In a Jupyter environment, please rerun this cell to show the HTML representation or trust the notebook. <br />On GitHub, the HTML representation is unable to render, please try loading this page with nbviewer.org.</b></div><div class=\"sk-container\" hidden><div class=\"sk-item\"><div class=\"sk-estimator sk-toggleable\"><input class=\"sk-toggleable__control sk-hidden--visually\" id=\"sk-estimator-id-38\" type=\"checkbox\" checked><label for=\"sk-estimator-id-38\" class=\"sk-toggleable__label sk-toggleable__label-arrow\">KNeighborsRegressor</label><div class=\"sk-toggleable__content\"><pre>KNeighborsRegressor(n_neighbors=10)</pre></div></div></div></div></div>"
      ],
      "text/plain": [
       "KNeighborsRegressor(n_neighbors=10)"
      ]
     },
     "execution_count": 223,
     "metadata": {},
     "output_type": "execute_result"
    }
   ],
   "source": [
    "knr.fit(x_train,y_train)"
   ]
  },
  {
   "cell_type": "code",
   "execution_count": 224,
   "id": "6d542407-45bf-45db-ab3c-1a2244fe3a6f",
   "metadata": {},
   "outputs": [
    {
     "data": {
      "text/plain": [
       "0.7746326519799341"
      ]
     },
     "execution_count": 224,
     "metadata": {},
     "output_type": "execute_result"
    }
   ],
   "source": [
    "knr.score(x_train,y_train)"
   ]
  },
  {
   "cell_type": "code",
   "execution_count": 225,
   "id": "2685d0bd-ec2b-4afe-8834-7e64562a66ed",
   "metadata": {},
   "outputs": [
    {
     "data": {
      "text/plain": [
       "0.7320377954695994"
      ]
     },
     "execution_count": 225,
     "metadata": {},
     "output_type": "execute_result"
    }
   ],
   "source": [
    "knr.score(x_test,y_test)"
   ]
  },
  {
   "cell_type": "markdown",
   "id": "6afa29b1-ed04-4fb9-9d2e-1a253b2ee86e",
   "metadata": {},
   "source": [
    "### GradientBoostingRegressor"
   ]
  },
  {
   "cell_type": "code",
   "execution_count": 229,
   "id": "13f7fa3d-a522-4788-adea-4d9d283eec84",
   "metadata": {},
   "outputs": [],
   "source": [
    "gbr=GradientBoostingRegressor()"
   ]
  },
  {
   "cell_type": "code",
   "execution_count": 230,
   "id": "302891b3-d743-4fa9-828f-14b62aed77b4",
   "metadata": {},
   "outputs": [
    {
     "data": {
      "text/html": [
       "<style>#sk-container-id-39 {color: black;}#sk-container-id-39 pre{padding: 0;}#sk-container-id-39 div.sk-toggleable {background-color: white;}#sk-container-id-39 label.sk-toggleable__label {cursor: pointer;display: block;width: 100%;margin-bottom: 0;padding: 0.3em;box-sizing: border-box;text-align: center;}#sk-container-id-39 label.sk-toggleable__label-arrow:before {content: \"▸\";float: left;margin-right: 0.25em;color: #696969;}#sk-container-id-39 label.sk-toggleable__label-arrow:hover:before {color: black;}#sk-container-id-39 div.sk-estimator:hover label.sk-toggleable__label-arrow:before {color: black;}#sk-container-id-39 div.sk-toggleable__content {max-height: 0;max-width: 0;overflow: hidden;text-align: left;background-color: #f0f8ff;}#sk-container-id-39 div.sk-toggleable__content pre {margin: 0.2em;color: black;border-radius: 0.25em;background-color: #f0f8ff;}#sk-container-id-39 input.sk-toggleable__control:checked~div.sk-toggleable__content {max-height: 200px;max-width: 100%;overflow: auto;}#sk-container-id-39 input.sk-toggleable__control:checked~label.sk-toggleable__label-arrow:before {content: \"▾\";}#sk-container-id-39 div.sk-estimator input.sk-toggleable__control:checked~label.sk-toggleable__label {background-color: #d4ebff;}#sk-container-id-39 div.sk-label input.sk-toggleable__control:checked~label.sk-toggleable__label {background-color: #d4ebff;}#sk-container-id-39 input.sk-hidden--visually {border: 0;clip: rect(1px 1px 1px 1px);clip: rect(1px, 1px, 1px, 1px);height: 1px;margin: -1px;overflow: hidden;padding: 0;position: absolute;width: 1px;}#sk-container-id-39 div.sk-estimator {font-family: monospace;background-color: #f0f8ff;border: 1px dotted black;border-radius: 0.25em;box-sizing: border-box;margin-bottom: 0.5em;}#sk-container-id-39 div.sk-estimator:hover {background-color: #d4ebff;}#sk-container-id-39 div.sk-parallel-item::after {content: \"\";width: 100%;border-bottom: 1px solid gray;flex-grow: 1;}#sk-container-id-39 div.sk-label:hover label.sk-toggleable__label {background-color: #d4ebff;}#sk-container-id-39 div.sk-serial::before {content: \"\";position: absolute;border-left: 1px solid gray;box-sizing: border-box;top: 0;bottom: 0;left: 50%;z-index: 0;}#sk-container-id-39 div.sk-serial {display: flex;flex-direction: column;align-items: center;background-color: white;padding-right: 0.2em;padding-left: 0.2em;position: relative;}#sk-container-id-39 div.sk-item {position: relative;z-index: 1;}#sk-container-id-39 div.sk-parallel {display: flex;align-items: stretch;justify-content: center;background-color: white;position: relative;}#sk-container-id-39 div.sk-item::before, #sk-container-id-39 div.sk-parallel-item::before {content: \"\";position: absolute;border-left: 1px solid gray;box-sizing: border-box;top: 0;bottom: 0;left: 50%;z-index: -1;}#sk-container-id-39 div.sk-parallel-item {display: flex;flex-direction: column;z-index: 1;position: relative;background-color: white;}#sk-container-id-39 div.sk-parallel-item:first-child::after {align-self: flex-end;width: 50%;}#sk-container-id-39 div.sk-parallel-item:last-child::after {align-self: flex-start;width: 50%;}#sk-container-id-39 div.sk-parallel-item:only-child::after {width: 0;}#sk-container-id-39 div.sk-dashed-wrapped {border: 1px dashed gray;margin: 0 0.4em 0.5em 0.4em;box-sizing: border-box;padding-bottom: 0.4em;background-color: white;}#sk-container-id-39 div.sk-label label {font-family: monospace;font-weight: bold;display: inline-block;line-height: 1.2em;}#sk-container-id-39 div.sk-label-container {text-align: center;}#sk-container-id-39 div.sk-container {/* jupyter's `normalize.less` sets `[hidden] { display: none; }` but bootstrap.min.css set `[hidden] { display: none !important; }` so we also need the `!important` here to be able to override the default hidden behavior on the sphinx rendered scikit-learn.org. See: https://github.com/scikit-learn/scikit-learn/issues/21755 */display: inline-block !important;position: relative;}#sk-container-id-39 div.sk-text-repr-fallback {display: none;}</style><div id=\"sk-container-id-39\" class=\"sk-top-container\"><div class=\"sk-text-repr-fallback\"><pre>GradientBoostingRegressor()</pre><b>In a Jupyter environment, please rerun this cell to show the HTML representation or trust the notebook. <br />On GitHub, the HTML representation is unable to render, please try loading this page with nbviewer.org.</b></div><div class=\"sk-container\" hidden><div class=\"sk-item\"><div class=\"sk-estimator sk-toggleable\"><input class=\"sk-toggleable__control sk-hidden--visually\" id=\"sk-estimator-id-39\" type=\"checkbox\" checked><label for=\"sk-estimator-id-39\" class=\"sk-toggleable__label sk-toggleable__label-arrow\">GradientBoostingRegressor</label><div class=\"sk-toggleable__content\"><pre>GradientBoostingRegressor()</pre></div></div></div></div></div>"
      ],
      "text/plain": [
       "GradientBoostingRegressor()"
      ]
     },
     "execution_count": 230,
     "metadata": {},
     "output_type": "execute_result"
    }
   ],
   "source": [
    "gbr.fit(x_train,y_train)"
   ]
  },
  {
   "cell_type": "code",
   "execution_count": 231,
   "id": "0d5cc1a1-cd64-4994-b68d-335f3e27d701",
   "metadata": {},
   "outputs": [
    {
     "data": {
      "text/plain": [
       "0.8082399876131476"
      ]
     },
     "execution_count": 231,
     "metadata": {},
     "output_type": "execute_result"
    }
   ],
   "source": [
    "gbr.score(x_train,y_train)"
   ]
  },
  {
   "cell_type": "code",
   "execution_count": 232,
   "id": "fc525495-24c0-444e-9b4f-52438fe05f17",
   "metadata": {},
   "outputs": [
    {
     "data": {
      "text/plain": [
       "0.8087724461538894"
      ]
     },
     "execution_count": 232,
     "metadata": {},
     "output_type": "execute_result"
    }
   ],
   "source": [
    "gbr.score(x_test,y_test)"
   ]
  },
  {
   "cell_type": "markdown",
   "id": "a91a2128-7386-4e1f-bb54-bd8baae3ee58",
   "metadata": {},
   "source": [
    "### BaggingRegressor"
   ]
  },
  {
   "cell_type": "code",
   "execution_count": 276,
   "id": "227ea2e5-cd50-49ec-8a48-225fefbf7bbf",
   "metadata": {},
   "outputs": [],
   "source": [
    "br=BaggingRegressor(n_estimators=20,max_samples=0.15)"
   ]
  },
  {
   "cell_type": "code",
   "execution_count": 277,
   "id": "8c01ed3f-4484-4e50-8709-896156c4ba1b",
   "metadata": {},
   "outputs": [
    {
     "data": {
      "text/html": [
       "<style>#sk-container-id-51 {color: black;}#sk-container-id-51 pre{padding: 0;}#sk-container-id-51 div.sk-toggleable {background-color: white;}#sk-container-id-51 label.sk-toggleable__label {cursor: pointer;display: block;width: 100%;margin-bottom: 0;padding: 0.3em;box-sizing: border-box;text-align: center;}#sk-container-id-51 label.sk-toggleable__label-arrow:before {content: \"▸\";float: left;margin-right: 0.25em;color: #696969;}#sk-container-id-51 label.sk-toggleable__label-arrow:hover:before {color: black;}#sk-container-id-51 div.sk-estimator:hover label.sk-toggleable__label-arrow:before {color: black;}#sk-container-id-51 div.sk-toggleable__content {max-height: 0;max-width: 0;overflow: hidden;text-align: left;background-color: #f0f8ff;}#sk-container-id-51 div.sk-toggleable__content pre {margin: 0.2em;color: black;border-radius: 0.25em;background-color: #f0f8ff;}#sk-container-id-51 input.sk-toggleable__control:checked~div.sk-toggleable__content {max-height: 200px;max-width: 100%;overflow: auto;}#sk-container-id-51 input.sk-toggleable__control:checked~label.sk-toggleable__label-arrow:before {content: \"▾\";}#sk-container-id-51 div.sk-estimator input.sk-toggleable__control:checked~label.sk-toggleable__label {background-color: #d4ebff;}#sk-container-id-51 div.sk-label input.sk-toggleable__control:checked~label.sk-toggleable__label {background-color: #d4ebff;}#sk-container-id-51 input.sk-hidden--visually {border: 0;clip: rect(1px 1px 1px 1px);clip: rect(1px, 1px, 1px, 1px);height: 1px;margin: -1px;overflow: hidden;padding: 0;position: absolute;width: 1px;}#sk-container-id-51 div.sk-estimator {font-family: monospace;background-color: #f0f8ff;border: 1px dotted black;border-radius: 0.25em;box-sizing: border-box;margin-bottom: 0.5em;}#sk-container-id-51 div.sk-estimator:hover {background-color: #d4ebff;}#sk-container-id-51 div.sk-parallel-item::after {content: \"\";width: 100%;border-bottom: 1px solid gray;flex-grow: 1;}#sk-container-id-51 div.sk-label:hover label.sk-toggleable__label {background-color: #d4ebff;}#sk-container-id-51 div.sk-serial::before {content: \"\";position: absolute;border-left: 1px solid gray;box-sizing: border-box;top: 0;bottom: 0;left: 50%;z-index: 0;}#sk-container-id-51 div.sk-serial {display: flex;flex-direction: column;align-items: center;background-color: white;padding-right: 0.2em;padding-left: 0.2em;position: relative;}#sk-container-id-51 div.sk-item {position: relative;z-index: 1;}#sk-container-id-51 div.sk-parallel {display: flex;align-items: stretch;justify-content: center;background-color: white;position: relative;}#sk-container-id-51 div.sk-item::before, #sk-container-id-51 div.sk-parallel-item::before {content: \"\";position: absolute;border-left: 1px solid gray;box-sizing: border-box;top: 0;bottom: 0;left: 50%;z-index: -1;}#sk-container-id-51 div.sk-parallel-item {display: flex;flex-direction: column;z-index: 1;position: relative;background-color: white;}#sk-container-id-51 div.sk-parallel-item:first-child::after {align-self: flex-end;width: 50%;}#sk-container-id-51 div.sk-parallel-item:last-child::after {align-self: flex-start;width: 50%;}#sk-container-id-51 div.sk-parallel-item:only-child::after {width: 0;}#sk-container-id-51 div.sk-dashed-wrapped {border: 1px dashed gray;margin: 0 0.4em 0.5em 0.4em;box-sizing: border-box;padding-bottom: 0.4em;background-color: white;}#sk-container-id-51 div.sk-label label {font-family: monospace;font-weight: bold;display: inline-block;line-height: 1.2em;}#sk-container-id-51 div.sk-label-container {text-align: center;}#sk-container-id-51 div.sk-container {/* jupyter's `normalize.less` sets `[hidden] { display: none; }` but bootstrap.min.css set `[hidden] { display: none !important; }` so we also need the `!important` here to be able to override the default hidden behavior on the sphinx rendered scikit-learn.org. See: https://github.com/scikit-learn/scikit-learn/issues/21755 */display: inline-block !important;position: relative;}#sk-container-id-51 div.sk-text-repr-fallback {display: none;}</style><div id=\"sk-container-id-51\" class=\"sk-top-container\"><div class=\"sk-text-repr-fallback\"><pre>BaggingRegressor(max_samples=0.15, n_estimators=20)</pre><b>In a Jupyter environment, please rerun this cell to show the HTML representation or trust the notebook. <br />On GitHub, the HTML representation is unable to render, please try loading this page with nbviewer.org.</b></div><div class=\"sk-container\" hidden><div class=\"sk-item\"><div class=\"sk-estimator sk-toggleable\"><input class=\"sk-toggleable__control sk-hidden--visually\" id=\"sk-estimator-id-51\" type=\"checkbox\" checked><label for=\"sk-estimator-id-51\" class=\"sk-toggleable__label sk-toggleable__label-arrow\">BaggingRegressor</label><div class=\"sk-toggleable__content\"><pre>BaggingRegressor(max_samples=0.15, n_estimators=20)</pre></div></div></div></div></div>"
      ],
      "text/plain": [
       "BaggingRegressor(max_samples=0.15, n_estimators=20)"
      ]
     },
     "execution_count": 277,
     "metadata": {},
     "output_type": "execute_result"
    }
   ],
   "source": [
    "br.fit(x_train,y_train)"
   ]
  },
  {
   "cell_type": "code",
   "execution_count": 278,
   "id": "4a0cf766-fb85-4197-ad41-5ecc6a1f1aa3",
   "metadata": {},
   "outputs": [
    {
     "data": {
      "text/plain": [
       "0.8434399827351081"
      ]
     },
     "execution_count": 278,
     "metadata": {},
     "output_type": "execute_result"
    }
   ],
   "source": [
    "br.score(x_train,y_train)"
   ]
  },
  {
   "cell_type": "code",
   "execution_count": 279,
   "id": "1dcbee98-72e5-4c72-ad3c-c15c633054d4",
   "metadata": {},
   "outputs": [
    {
     "data": {
      "text/plain": [
       "0.7991517898270022"
      ]
     },
     "execution_count": 279,
     "metadata": {},
     "output_type": "execute_result"
    }
   ],
   "source": [
    "br.score(x_test,y_test)"
   ]
  },
  {
   "cell_type": "markdown",
   "id": "567b721a-4a97-485c-b4a1-798278ff7af6",
   "metadata": {},
   "source": [
    "### AdaBoostRegressor"
   ]
  },
  {
   "cell_type": "code",
   "execution_count": 332,
   "id": "0b4010ae-5357-40d1-803f-31911f4ea9e6",
   "metadata": {},
   "outputs": [],
   "source": [
    "abd=AdaBoostRegressor(n_estimators=10,loss='linear',learning_rate=0.1)"
   ]
  },
  {
   "cell_type": "code",
   "execution_count": 333,
   "id": "3a005570-f0bb-49fa-be5d-8e60f4f1e14b",
   "metadata": {},
   "outputs": [
    {
     "data": {
      "text/html": [
       "<style>#sk-container-id-65 {color: black;}#sk-container-id-65 pre{padding: 0;}#sk-container-id-65 div.sk-toggleable {background-color: white;}#sk-container-id-65 label.sk-toggleable__label {cursor: pointer;display: block;width: 100%;margin-bottom: 0;padding: 0.3em;box-sizing: border-box;text-align: center;}#sk-container-id-65 label.sk-toggleable__label-arrow:before {content: \"▸\";float: left;margin-right: 0.25em;color: #696969;}#sk-container-id-65 label.sk-toggleable__label-arrow:hover:before {color: black;}#sk-container-id-65 div.sk-estimator:hover label.sk-toggleable__label-arrow:before {color: black;}#sk-container-id-65 div.sk-toggleable__content {max-height: 0;max-width: 0;overflow: hidden;text-align: left;background-color: #f0f8ff;}#sk-container-id-65 div.sk-toggleable__content pre {margin: 0.2em;color: black;border-radius: 0.25em;background-color: #f0f8ff;}#sk-container-id-65 input.sk-toggleable__control:checked~div.sk-toggleable__content {max-height: 200px;max-width: 100%;overflow: auto;}#sk-container-id-65 input.sk-toggleable__control:checked~label.sk-toggleable__label-arrow:before {content: \"▾\";}#sk-container-id-65 div.sk-estimator input.sk-toggleable__control:checked~label.sk-toggleable__label {background-color: #d4ebff;}#sk-container-id-65 div.sk-label input.sk-toggleable__control:checked~label.sk-toggleable__label {background-color: #d4ebff;}#sk-container-id-65 input.sk-hidden--visually {border: 0;clip: rect(1px 1px 1px 1px);clip: rect(1px, 1px, 1px, 1px);height: 1px;margin: -1px;overflow: hidden;padding: 0;position: absolute;width: 1px;}#sk-container-id-65 div.sk-estimator {font-family: monospace;background-color: #f0f8ff;border: 1px dotted black;border-radius: 0.25em;box-sizing: border-box;margin-bottom: 0.5em;}#sk-container-id-65 div.sk-estimator:hover {background-color: #d4ebff;}#sk-container-id-65 div.sk-parallel-item::after {content: \"\";width: 100%;border-bottom: 1px solid gray;flex-grow: 1;}#sk-container-id-65 div.sk-label:hover label.sk-toggleable__label {background-color: #d4ebff;}#sk-container-id-65 div.sk-serial::before {content: \"\";position: absolute;border-left: 1px solid gray;box-sizing: border-box;top: 0;bottom: 0;left: 50%;z-index: 0;}#sk-container-id-65 div.sk-serial {display: flex;flex-direction: column;align-items: center;background-color: white;padding-right: 0.2em;padding-left: 0.2em;position: relative;}#sk-container-id-65 div.sk-item {position: relative;z-index: 1;}#sk-container-id-65 div.sk-parallel {display: flex;align-items: stretch;justify-content: center;background-color: white;position: relative;}#sk-container-id-65 div.sk-item::before, #sk-container-id-65 div.sk-parallel-item::before {content: \"\";position: absolute;border-left: 1px solid gray;box-sizing: border-box;top: 0;bottom: 0;left: 50%;z-index: -1;}#sk-container-id-65 div.sk-parallel-item {display: flex;flex-direction: column;z-index: 1;position: relative;background-color: white;}#sk-container-id-65 div.sk-parallel-item:first-child::after {align-self: flex-end;width: 50%;}#sk-container-id-65 div.sk-parallel-item:last-child::after {align-self: flex-start;width: 50%;}#sk-container-id-65 div.sk-parallel-item:only-child::after {width: 0;}#sk-container-id-65 div.sk-dashed-wrapped {border: 1px dashed gray;margin: 0 0.4em 0.5em 0.4em;box-sizing: border-box;padding-bottom: 0.4em;background-color: white;}#sk-container-id-65 div.sk-label label {font-family: monospace;font-weight: bold;display: inline-block;line-height: 1.2em;}#sk-container-id-65 div.sk-label-container {text-align: center;}#sk-container-id-65 div.sk-container {/* jupyter's `normalize.less` sets `[hidden] { display: none; }` but bootstrap.min.css set `[hidden] { display: none !important; }` so we also need the `!important` here to be able to override the default hidden behavior on the sphinx rendered scikit-learn.org. See: https://github.com/scikit-learn/scikit-learn/issues/21755 */display: inline-block !important;position: relative;}#sk-container-id-65 div.sk-text-repr-fallback {display: none;}</style><div id=\"sk-container-id-65\" class=\"sk-top-container\"><div class=\"sk-text-repr-fallback\"><pre>AdaBoostRegressor(learning_rate=0.1, n_estimators=10)</pre><b>In a Jupyter environment, please rerun this cell to show the HTML representation or trust the notebook. <br />On GitHub, the HTML representation is unable to render, please try loading this page with nbviewer.org.</b></div><div class=\"sk-container\" hidden><div class=\"sk-item\"><div class=\"sk-estimator sk-toggleable\"><input class=\"sk-toggleable__control sk-hidden--visually\" id=\"sk-estimator-id-65\" type=\"checkbox\" checked><label for=\"sk-estimator-id-65\" class=\"sk-toggleable__label sk-toggleable__label-arrow\">AdaBoostRegressor</label><div class=\"sk-toggleable__content\"><pre>AdaBoostRegressor(learning_rate=0.1, n_estimators=10)</pre></div></div></div></div></div>"
      ],
      "text/plain": [
       "AdaBoostRegressor(learning_rate=0.1, n_estimators=10)"
      ]
     },
     "execution_count": 333,
     "metadata": {},
     "output_type": "execute_result"
    }
   ],
   "source": [
    "abd.fit(x_train,y_train)"
   ]
  },
  {
   "cell_type": "code",
   "execution_count": 334,
   "id": "f806d8a9-1477-45e5-a9e2-b79c46809abd",
   "metadata": {},
   "outputs": [
    {
     "data": {
      "text/plain": [
       "0.7358299082320392"
      ]
     },
     "execution_count": 334,
     "metadata": {},
     "output_type": "execute_result"
    }
   ],
   "source": [
    "abd.score(x_train,y_train)"
   ]
  },
  {
   "cell_type": "code",
   "execution_count": 335,
   "id": "12e4aed9-a831-4657-a88d-b7cc59830678",
   "metadata": {},
   "outputs": [
    {
     "data": {
      "text/plain": [
       "0.7400905720405632"
      ]
     },
     "execution_count": 335,
     "metadata": {},
     "output_type": "execute_result"
    }
   ],
   "source": [
    "abd.score(x_test,y_test)"
   ]
  },
  {
   "cell_type": "markdown",
   "id": "d7ca25ba-f46b-4a13-bac2-4821b848874c",
   "metadata": {},
   "source": [
    "### RandomForest Regression shows the best result with score of 85%(approx)"
   ]
  },
  {
   "cell_type": "code",
   "execution_count": null,
   "id": "37cd5ca4-bc5a-4fc4-bcc4-b9f07c1c72c9",
   "metadata": {},
   "outputs": [],
   "source": []
  }
 ],
 "metadata": {
  "kernelspec": {
   "display_name": "Python 3 (ipykernel)",
   "language": "python",
   "name": "python3"
  },
  "language_info": {
   "codemirror_mode": {
    "name": "ipython",
    "version": 3
   },
   "file_extension": ".py",
   "mimetype": "text/x-python",
   "name": "python",
   "nbconvert_exporter": "python",
   "pygments_lexer": "ipython3",
   "version": "3.12.0"
  }
 },
 "nbformat": 4,
 "nbformat_minor": 5
}
